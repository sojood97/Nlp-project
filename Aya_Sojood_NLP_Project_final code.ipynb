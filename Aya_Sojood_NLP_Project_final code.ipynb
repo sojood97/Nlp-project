{
 "cells": [
  {
   "cell_type": "markdown",
   "metadata": {},
   "source": [
    "# Read Papers -- Split Abstract"
   ]
  },
  {
   "cell_type": "code",
   "execution_count": 1,
   "metadata": {},
   "outputs": [],
   "source": [
    "import os\n",
    "import pandas as pd \n",
    "\n",
    "titles = []\n",
    "texts = []\n",
    "abstracts=[]\n",
    "\n",
    "#title = text_data[0]\n",
    "#abstract=text_data[1]\n",
    "#paper text=text_data[10:]\n",
    "\n",
    "\n",
    "def read_papers(path):\n",
    "     for dirname, categoryname, filenames in os.walk(path):\n",
    "            for filename in filenames:\n",
    "                if filename == 'README.TXT':\n",
    "                    filenames.remove(filename)\n",
    "                else:\n",
    "                    current_file = os.path.abspath(os.path.join(dirname, filename))\n",
    "                    open_file = open(current_file, 'r', encoding=\"utf16\",errors='ignore')\n",
    "                    text_data = open_file.read().split('\\n')\n",
    "                    text_data = list(filter(None, text_data))\n",
    "                    titles.append(text_data[0])\n",
    "                    abstracts.append(text_data[1])\n",
    "                    texts.append((dirname, filename, text_data[0],text_data[1], text_data[10:]))\n",
    "     df = pd.DataFrame(texts, columns=['Directory', 'FileName', 'Title','Summary', 'Text'])\n",
    "     df['Text'] = df.Text.astype(str)\n",
    "     return df"
   ]
  },
  {
   "cell_type": "code",
   "execution_count": 2,
   "metadata": {},
   "outputs": [
    {
     "data": {
      "text/html": [
       "<div>\n",
       "<style scoped>\n",
       "    .dataframe tbody tr th:only-of-type {\n",
       "        vertical-align: middle;\n",
       "    }\n",
       "\n",
       "    .dataframe tbody tr th {\n",
       "        vertical-align: top;\n",
       "    }\n",
       "\n",
       "    .dataframe thead th {\n",
       "        text-align: right;\n",
       "    }\n",
       "</style>\n",
       "<table border=\"1\" class=\"dataframe\">\n",
       "  <thead>\n",
       "    <tr style=\"text-align: right;\">\n",
       "      <th></th>\n",
       "      <th>Directory</th>\n",
       "      <th>FileName</th>\n",
       "      <th>Title</th>\n",
       "      <th>Summary</th>\n",
       "      <th>Text</th>\n",
       "    </tr>\n",
       "  </thead>\n",
       "  <tbody>\n",
       "    <tr>\n",
       "      <th>0</th>\n",
       "      <td>C:/Users/sojood/Desktop/papers-text/Text Files/</td>\n",
       "      <td>1-s2.0-S2211381912001087-main.txt</td>\n",
       "      <td>Available online at www.sciencedirect.com</td>\n",
       "      <td>Many modern service systems rely on a network ...</td>\n",
       "      <td>['While the ROASWSN design decision is to sele...</td>\n",
       "    </tr>\n",
       "    <tr>\n",
       "      <th>1</th>\n",
       "      <td>C:/Users/sojood/Desktop/papers-text/Text Files/</td>\n",
       "      <td>1012.2609.txt</td>\n",
       "      <td>J OURNAL OF I NFORMATION S CIENCE AND E NGINEE...</td>\n",
       "      <td>Term weighting schemes often dominate the perf...</td>\n",
       "      <td>['*   This work was supported supported by the...</td>\n",
       "    </tr>\n",
       "    <tr>\n",
       "      <th>2</th>\n",
       "      <td>C:/Users/sojood/Desktop/papers-text/Text Files/</td>\n",
       "      <td>1207.1847v1.txt</td>\n",
       "      <td>The University of Sheﬃeld</td>\n",
       "      <td>The statistical methods derived and described ...</td>\n",
       "      <td>['Part 3.    Applications                     ...</td>\n",
       "    </tr>\n",
       "    <tr>\n",
       "      <th>3</th>\n",
       "      <td>C:/Users/sojood/Desktop/papers-text/Text Files/</td>\n",
       "      <td>1209.3126v1.txt</td>\n",
       "      <td>Beyond Stemming and Lemmatization:</td>\n",
       "      <td>In Automatic Text Summarization, preprocessing...</td>\n",
       "      <td>['\\ufeff\\x0c', 'a heterogeneous set of documen...</td>\n",
       "    </tr>\n",
       "    <tr>\n",
       "      <th>4</th>\n",
       "      <td>C:/Users/sojood/Desktop/papers-text/Text Files/</td>\n",
       "      <td>1210.0852.txt</td>\n",
       "      <td>Detecting multiword phrases in mathematical te...</td>\n",
       "      <td>We present an approach for detecting multiword...</td>\n",
       "      <td>['•   locally symmetrical Finsler manifold(s) ...</td>\n",
       "    </tr>\n",
       "    <tr>\n",
       "      <th>5</th>\n",
       "      <td>C:/Users/sojood/Desktop/papers-text/Text Files/</td>\n",
       "      <td>1305.6143.txt</td>\n",
       "      <td>Fast and accurate sentiment classification usi...</td>\n",
       "      <td>Abstract. We have explored different methods o...</td>\n",
       "      <td>['We used a publicly available dataset of movi...</td>\n",
       "    </tr>\n",
       "    <tr>\n",
       "      <th>6</th>\n",
       "      <td>C:/Users/sojood/Desktop/papers-text/Text Files/</td>\n",
       "      <td>1306.6802v2.txt</td>\n",
       "      <td>Evaluation Measures for Hierarchical Classiﬁca...</td>\n",
       "      <td>Hierarchical classiﬁcation addresses the probl...</td>\n",
       "      <td>['1. It groups existing HC evaluation measures...</td>\n",
       "    </tr>\n",
       "    <tr>\n",
       "      <th>7</th>\n",
       "      <td>C:/Users/sojood/Desktop/papers-text/Text Files/</td>\n",
       "      <td>1308.0850v5.txt</td>\n",
       "      <td>Generating Sequences With Recurrent Neural Net...</td>\n",
       "      <td>This paper shows how Long Short-term Memory re...</td>\n",
       "      <td>['Long Short-term Memory (LSTM) [16] is an RNN...</td>\n",
       "    </tr>\n",
       "  </tbody>\n",
       "</table>\n",
       "</div>"
      ],
      "text/plain": [
       "                                         Directory  \\\n",
       "0  C:/Users/sojood/Desktop/papers-text/Text Files/   \n",
       "1  C:/Users/sojood/Desktop/papers-text/Text Files/   \n",
       "2  C:/Users/sojood/Desktop/papers-text/Text Files/   \n",
       "3  C:/Users/sojood/Desktop/papers-text/Text Files/   \n",
       "4  C:/Users/sojood/Desktop/papers-text/Text Files/   \n",
       "5  C:/Users/sojood/Desktop/papers-text/Text Files/   \n",
       "6  C:/Users/sojood/Desktop/papers-text/Text Files/   \n",
       "7  C:/Users/sojood/Desktop/papers-text/Text Files/   \n",
       "\n",
       "                            FileName  \\\n",
       "0  1-s2.0-S2211381912001087-main.txt   \n",
       "1                      1012.2609.txt   \n",
       "2                    1207.1847v1.txt   \n",
       "3                    1209.3126v1.txt   \n",
       "4                      1210.0852.txt   \n",
       "5                      1305.6143.txt   \n",
       "6                    1306.6802v2.txt   \n",
       "7                    1308.0850v5.txt   \n",
       "\n",
       "                                               Title  \\\n",
       "0          Available online at www.sciencedirect.com   \n",
       "1  J OURNAL OF I NFORMATION S CIENCE AND E NGINEE...   \n",
       "2                          The University of Sheﬃeld   \n",
       "3                 Beyond Stemming and Lemmatization:   \n",
       "4  Detecting multiword phrases in mathematical te...   \n",
       "5  Fast and accurate sentiment classification usi...   \n",
       "6  Evaluation Measures for Hierarchical Classiﬁca...   \n",
       "7  Generating Sequences With Recurrent Neural Net...   \n",
       "\n",
       "                                             Summary  \\\n",
       "0  Many modern service systems rely on a network ...   \n",
       "1  Term weighting schemes often dominate the perf...   \n",
       "2  The statistical methods derived and described ...   \n",
       "3  In Automatic Text Summarization, preprocessing...   \n",
       "4  We present an approach for detecting multiword...   \n",
       "5  Abstract. We have explored different methods o...   \n",
       "6  Hierarchical classiﬁcation addresses the probl...   \n",
       "7  This paper shows how Long Short-term Memory re...   \n",
       "\n",
       "                                                Text  \n",
       "0  ['While the ROASWSN design decision is to sele...  \n",
       "1  ['*   This work was supported supported by the...  \n",
       "2  ['Part 3.    Applications                     ...  \n",
       "3  ['\\ufeff\\x0c', 'a heterogeneous set of documen...  \n",
       "4  ['•   locally symmetrical Finsler manifold(s) ...  \n",
       "5  ['We used a publicly available dataset of movi...  \n",
       "6  ['1. It groups existing HC evaluation measures...  \n",
       "7  ['Long Short-term Memory (LSTM) [16] is an RNN...  "
      ]
     },
     "execution_count": 2,
     "metadata": {},
     "output_type": "execute_result"
    }
   ],
   "source": [
    "data=read_papers('C:/Users/sojood/Desktop/papers-text/Text Files/')\n",
    "\n",
    "data.head(n=8)"
   ]
  },
  {
   "cell_type": "markdown",
   "metadata": {},
   "source": [
    "# Map the contracted words with their intended meanings"
   ]
  },
  {
   "cell_type": "raw",
   "metadata": {},
   "source": [
    "What are contractions?\n",
    "\n",
    "Contractions are words or combinations of words that are shortened by dropping letters and replacing them by an apostrophe."
   ]
  },
  {
   "cell_type": "code",
   "execution_count": 3,
   "metadata": {},
   "outputs": [],
   "source": [
    "contraction_map = {\n",
    "                   \"ain't\": \"is not\", \n",
    "                   \"aren't\": \"are not\",\n",
    "                   \"can't\": \"cannot\", \n",
    "                   \"'cause\": \"because\",\n",
    "                   \"could've\": \"could have\",\n",
    "                   \"couldn't\": \"could not\",\n",
    "                   \"didn't\": \"did not\", \n",
    "                   \"doesn't\": \"does not\", \n",
    "                   \"don't\": \"do not\", \n",
    "                   \"hadn't\": \"had not\",\n",
    "                   \"hasn't\": \"has not\", \n",
    "                   \"haven't\": \"have not\",\n",
    "                   \"he'd\": \"he would\",\n",
    "                   \"he'll\": \"he will\",\n",
    "                   \"he's\": \"he is\", \n",
    "                   \"how'd\": \"how did\", \n",
    "                   \"how'd'y\": \"how do you\", \n",
    "                   \"how'll\": \"how will\", \n",
    "                   \"how's\": \"how is\",\n",
    "                   \"I'd\": \"I would\", \n",
    "                   \"I'd've\": \"I would have\",\n",
    "                   \"I'll\": \"I will\",\n",
    "                   \"I'll've\": \"I will have\",\n",
    "                   \"I'm\": \"I am\",\n",
    "                   \"I've\": \"I have\", \n",
    "                   \"i'd\": \"i would\",\n",
    "                   \"i'd've\": \"i would have\",\n",
    "                   \"i'll\": \"i will\", \n",
    "                   \"i'll've\": \"i will have\",\n",
    "                   \"i'm\": \"i am\", \n",
    "                   \"i've\": \"i have\",\n",
    "                   \"isn't\": \"is not\", \n",
    "                   \"it'd\": \"it would\",\n",
    "                   \"it'd've\": \"it would have\",\n",
    "                   \"it'll\": \"it will\",\n",
    "                   \"it'll've\": \"it will have\",\n",
    "                   \"it's\": \"it is\",\n",
    "                   \"let's\": \"let us\",\n",
    "                   \"ma'am\": \"madam\",\n",
    "                   \"mayn't\": \"may not\",\n",
    "                   \"might've\": \"might have\",\n",
    "                   \"mightn't\": \"might not\",\n",
    "                   \"mightn't've\": \"might not have\",\n",
    "                   \"must've\": \"must have\",\n",
    "                   \"mustn't\": \"must not\", \n",
    "                   \"mustn't've\": \"must not have\",\n",
    "                   \"needn't\": \"need not\", \n",
    "                   \"needn't've\": \"need not have\",\n",
    "                   \"o'clock\": \"of the clock\",\n",
    "                   \"oughtn't\": \"ought not\", \n",
    "                   \"oughtn't've\": \"ought not have\",\n",
    "                   \"shan't\": \"shall not\", \n",
    "                   \"sha'n't\": \"shall not\", \n",
    "                   \"shan't've\": \"shall not have\",\n",
    "                   \"she'd\": \"she would\", \n",
    "                   \"she'd've\": \"she would have\",\n",
    "                   \"she'll\": \"she will\",\n",
    "                   \"she'll've\": \"she will have\",\n",
    "                   \"she's\": \"she is\",\n",
    "                   \"should've\": \"should have\",\n",
    "                   \"shouldn't\": \"should not\",\n",
    "                   \"shouldn't've\": \"should not have\",\n",
    "                   \"so've\": \"so have\",\n",
    "                   \"so's\": \"so as\",\n",
    "                   \"this's\": \"this is\",\n",
    "                   \"that'd\": \"that would\", \n",
    "                   \"that'd've\": \"that would have\", \n",
    "                   \"that's\": \"that is\", \n",
    "                   \"there'd\": \"there would\",\n",
    "                   \"there'd've\": \"there would have\", \n",
    "                   \"there's\": \"there is\", \n",
    "                   \"here's\": \"here is\",\n",
    "                   \"they'd\": \"they would\",\n",
    "                   \"they'd've\": \"they would have\",\n",
    "                   \"they'll\": \"they will\", \n",
    "                   \"they'll've\": \"they will have\",\n",
    "                   \"they're\": \"they are\",\n",
    "                   \"they've\": \"they have\", \n",
    "                   \"to've\": \"to have\",\n",
    "                   \"wasn't\": \"was not\",\n",
    "                   \"we'd\": \"we would\", \n",
    "                   \"we'd've\": \"we would have\",\n",
    "                   \"we'll\": \"we will\",\n",
    "                   \"we'll've\": \"we will have\",\n",
    "                   \"we're\": \"we are\",\n",
    "                   \"we've\": \"we have\", \n",
    "                   \"weren't\": \"were not\", \n",
    "                   \"what'll\": \"what will\", \n",
    "                   \"what'll've\": \"what will have\", \n",
    "                   \"what're\": \"what are\",\n",
    "                   \"what's\": \"what is\",\n",
    "                   \"what've\": \"what have\",\n",
    "                   \"when's\": \"when is\", \n",
    "                   \"when've\": \"when have\", \n",
    "                   \"where'd\": \"where did\", \n",
    "                   \"where's\": \"where is\",\n",
    "                   \"where've\": \"where have\", \n",
    "                   \"who'll\": \"who will\", \n",
    "                   \"who'll've\": \"who will have\",\n",
    "                   \"who's\": \"who is\", \n",
    "                   \"who've\": \"who have\",\n",
    "                   \"why's\": \"why is\",\n",
    "                   \"why've\": \"why have\", \n",
    "                   \"will've\": \"will have\", \n",
    "                   \"won't\": \"will not\",\n",
    "                   \"won't've\": \"will not have\",\n",
    "                   \"would've\": \"would have\",\n",
    "                   \"wouldn't\": \"would not\",\n",
    "                   \"wouldn't've\": \"would not have\", \"y'all\": \"you all\",\n",
    "                   \"y'all'd\": \"you all would\",\n",
    "                   \"y'all'd've\": \"you all would have\",\n",
    "                   \"y'all're\": \"you all are\",\n",
    "                   \"y'all've\": \"you all have\",\n",
    "                   \"you'd\": \"you would\", \n",
    "                   \"you'd've\": \"you would have\",\n",
    "                   \"you'll\": \"you will\", \n",
    "                   \"you'll've\": \"you will have\",\n",
    "                   \"you're\": \"you are\",\n",
    "                   \"you've\": \"you have\"\n",
    "                  }"
   ]
  },
  {
   "cell_type": "markdown",
   "metadata": {},
   "source": [
    "# Text Preprocessing"
   ]
  },
  {
   "cell_type": "raw",
   "metadata": {},
   "source": [
    "clean the text and abstract using the contrcation_mapping and removing irrelevant letters and words. Finally,tokenize the sentences for further processing.\n",
    "1-Remove stop words\n",
    "2-Convert to lower case\n",
    "3-Replace digit number with space\n",
    "4-remove short words\n",
    "\n",
    "Apply preproessing function on paper text and abstract "
   ]
  },
  {
   "cell_type": "code",
   "execution_count": 4,
   "metadata": {},
   "outputs": [],
   "source": [
    "import re        \n",
    "import numpy as np  \n",
    "from bs4 import BeautifulSoup \n",
    "from nltk.corpus import stopwords   \n",
    "\n",
    "stop_words = set(stopwords.words('english')) \n",
    "\n",
    "\n",
    "def summary_cleaner(text):\n",
    "    newString = text.lower()\n",
    "    newString = re.sub('\"','', str(text))\n",
    "    newString = ' '.join([contraction_map[t] if t in contraction_map else t for t in newString.split(\" \")])    \n",
    "    newString = re.sub(r\"'s\\b\",\"\",newString)\n",
    "    newString = re.sub(\"[^a-zA-Z]\", \" \", newString)\n",
    "    newString = newString.lower()\n",
    "    tokens = [w for w in newString.split() if not w in stop_words]\n",
    "    long_words=[]\n",
    "    for i in tokens:\n",
    "        if len(i)>=3:                  #removing short word\n",
    "            long_words.append(i)   \n",
    "    return (\" \".join(long_words)).strip()\n",
    "\n",
    "cleaned_text = []\n",
    "for t in data['Text']:\n",
    "    cleaned_text.append(summary_cleaner(t))\n",
    "    \n",
    "cleaned_summary = []\n",
    "for t in data['Summary']:\n",
    "    cleaned_summary.append(summary_cleaner(t))"
   ]
  },
  {
   "cell_type": "raw",
   "metadata": {},
   "source": [
    "Drop nan value (nul value)"
   ]
  },
  {
   "cell_type": "code",
   "execution_count": 5,
   "metadata": {},
   "outputs": [
    {
     "data": {
      "text/html": [
       "<div>\n",
       "<style scoped>\n",
       "    .dataframe tbody tr th:only-of-type {\n",
       "        vertical-align: middle;\n",
       "    }\n",
       "\n",
       "    .dataframe tbody tr th {\n",
       "        vertical-align: top;\n",
       "    }\n",
       "\n",
       "    .dataframe thead th {\n",
       "        text-align: right;\n",
       "    }\n",
       "</style>\n",
       "<table border=\"1\" class=\"dataframe\">\n",
       "  <thead>\n",
       "    <tr style=\"text-align: right;\">\n",
       "      <th></th>\n",
       "      <th>cleaned_text</th>\n",
       "      <th>cleaned_summary</th>\n",
       "    </tr>\n",
       "  </thead>\n",
       "  <tbody>\n",
       "    <tr>\n",
       "      <th>0</th>\n",
       "      <td>roaswsn design decision select hub arcs flow c...</td>\n",
       "      <td>many modern service systems rely network hub f...</td>\n",
       "    </tr>\n",
       "    <tr>\n",
       "      <th>1</th>\n",
       "      <td>work supported supported high tech program gra...</td>\n",
       "      <td>term weighting schemes often dominate performa...</td>\n",
       "    </tr>\n",
       "    <tr>\n",
       "      <th>2</th>\n",
       "      <td>part applications chapter collocation coocurre...</td>\n",
       "      <td>statistical methods derived described thesis p...</td>\n",
       "    </tr>\n",
       "    <tr>\n",
       "      <th>3</th>\n",
       "      <td>ufeff heterogeneous set documents focused topi...</td>\n",
       "      <td>automatic text summarization preprocessing imp...</td>\n",
       "    </tr>\n",
       "    <tr>\n",
       "      <th>4</th>\n",
       "      <td>locally symmetrical finsler manifold local equ...</td>\n",
       "      <td>present approach detecting multiword phrases m...</td>\n",
       "    </tr>\n",
       "    <tr>\n",
       "      <th>5</th>\n",
       "      <td>used publicly available dataset movie reviews ...</td>\n",
       "      <td>abstract explored different methods improving ...</td>\n",
       "    </tr>\n",
       "    <tr>\n",
       "      <th>6</th>\n",
       "      <td>groups existing evaluation measures two main t...</td>\n",
       "      <td>hierarchical classi cation addresses problem c...</td>\n",
       "    </tr>\n",
       "    <tr>\n",
       "      <th>7</th>\n",
       "      <td>long short term memory lstm rnn architecture d...</td>\n",
       "      <td>paper shows long short term memory recurrent n...</td>\n",
       "    </tr>\n",
       "  </tbody>\n",
       "</table>\n",
       "</div>"
      ],
      "text/plain": [
       "                                        cleaned_text  \\\n",
       "0  roaswsn design decision select hub arcs flow c...   \n",
       "1  work supported supported high tech program gra...   \n",
       "2  part applications chapter collocation coocurre...   \n",
       "3  ufeff heterogeneous set documents focused topi...   \n",
       "4  locally symmetrical finsler manifold local equ...   \n",
       "5  used publicly available dataset movie reviews ...   \n",
       "6  groups existing evaluation measures two main t...   \n",
       "7  long short term memory lstm rnn architecture d...   \n",
       "\n",
       "                                     cleaned_summary  \n",
       "0  many modern service systems rely network hub f...  \n",
       "1  term weighting schemes often dominate performa...  \n",
       "2  statistical methods derived described thesis p...  \n",
       "3  automatic text summarization preprocessing imp...  \n",
       "4  present approach detecting multiword phrases m...  \n",
       "5  abstract explored different methods improving ...  \n",
       "6  hierarchical classi cation addresses problem c...  \n",
       "7  paper shows long short term memory recurrent n...  "
      ]
     },
     "execution_count": 5,
     "metadata": {},
     "output_type": "execute_result"
    }
   ],
   "source": [
    "data['cleaned_text']=cleaned_text\n",
    "data['cleaned_summary']=cleaned_summary\n",
    "data['cleaned_summary'].replace('', np.nan, inplace=True)\n",
    "data.dropna(axis=0,inplace=True)\n",
    "dataa = data.filter(['cleaned_text','cleaned_summary'], axis=1)\n",
    "dataa.head(8)"
   ]
  },
  {
   "cell_type": "markdown",
   "metadata": {},
   "source": [
    "# Split Into Train/Test"
   ]
  },
  {
   "cell_type": "raw",
   "metadata": {},
   "source": [
    "test size = 20%\n",
    "X= cleaned text(paper text after clean)\n",
    "y=cleaned summary (original abstract after clean)"
   ]
  },
  {
   "cell_type": "code",
   "execution_count": 6,
   "metadata": {},
   "outputs": [],
   "source": [
    "from sklearn.model_selection import train_test_split\n",
    "x_tr,x_val,y_tr,y_val=train_test_split(dataa['cleaned_text'],dataa['cleaned_summary'],test_size=0.2,random_state=0,shuffle=True)"
   ]
  },
  {
   "cell_type": "markdown",
   "metadata": {},
   "source": [
    "# Distribution of the sequences"
   ]
  },
  {
   "cell_type": "raw",
   "metadata": {},
   "source": [
    "Distribution of the sequence of summary word count and cleaned text word count , also use this distribution \n",
    "to define maximum length text and maxiumam sumarry length text \n"
   ]
  },
  {
   "cell_type": "code",
   "execution_count": 7,
   "metadata": {},
   "outputs": [
    {
     "data": {
      "image/png": "[encoded data removed]",
      "text/plain": [
       "<Figure size 432x288 with 2 Axes>"
      ]
     },
     "metadata": {
      "needs_background": "light"
     },
     "output_type": "display_data"
    }
   ],
   "source": [
    "import matplotlib.pyplot as plt\n",
    "text_word_count = []\n",
    "summary_word_count = []\n",
    "\n",
    "# populate the lists with sentence lengths\n",
    "for i in dataa['cleaned_text']:\n",
    "      text_word_count.append(len(i.split()))\n",
    "\n",
    "for i in dataa['cleaned_summary']:\n",
    "      summary_word_count.append(len(i.split()))\n",
    "\n",
    "length_df = pd.DataFrame({'text':text_word_count, 'summary':summary_word_count})\n",
    "length_df.hist(bins = 30)\n",
    "plt.show()"
   ]
  },
  {
   "cell_type": "code",
   "execution_count": 8,
   "metadata": {},
   "outputs": [],
   "source": [
    "#Set the lengths for summary and text.\n",
    "max_len_text=500\n",
    "max_len_summary=50"
   ]
  },
  {
   "cell_type": "markdown",
   "metadata": {},
   "source": [
    "#  Text Tokenizer & Summary Tokenizer"
   ]
  },
  {
   "cell_type": "code",
   "execution_count": null,
   "metadata": {},
   "outputs": [],
   "source": []
  },
  {
   "cell_type": "code",
   "execution_count": 9,
   "metadata": {},
   "outputs": [],
   "source": [
    "from keras.preprocessing.text import Tokenizer \n",
    "from tensorflow.keras.preprocessing.sequence import pad_sequences\n",
    "\n",
    "#prepare a tokenizer for text on training data\n",
    "x_tokenizer = Tokenizer()\n",
    "x_tokenizer.fit_on_texts(list(x_tr))\n",
    "\n",
    "#convert text sequences into integer sequences\n",
    "x_tr    =   x_tokenizer.texts_to_sequences(x_tr) \n",
    "x_val   =   x_tokenizer.texts_to_sequences(x_val)\n",
    "\n",
    "#padding zero upto maximum length\n",
    "x_tr    =   pad_sequences(x_tr,  maxlen=max_len_text, padding='post') \n",
    "x_val   =   pad_sequences(x_val, maxlen=max_len_text, padding='post')\n",
    "\n",
    "x_voc_size   =  len(x_tokenizer.word_index) +1\n",
    "\n",
    "\n",
    "#preparing a tokenizer for summary on training data \n",
    "y_tokenizer = Tokenizer()\n",
    "y_tokenizer.fit_on_texts(list(y_tr))\n",
    "\n",
    "#convert summary sequences into integer sequences\n",
    "y_tr    =   y_tokenizer.texts_to_sequences(y_tr) \n",
    "y_val   =   y_tokenizer.texts_to_sequences(y_val) \n",
    "\n",
    "#padding zero upto maximum length\n",
    "y_tr    =   pad_sequences(y_tr, maxlen=max_len_summary, padding='post')\n",
    "y_val   =   pad_sequences(y_val, maxlen=max_len_summary, padding='post')\n",
    "\n",
    "y_voc_size  =   len(y_tokenizer.word_index) +1"
   ]
  },
  {
   "cell_type": "markdown",
   "metadata": {},
   "source": [
    "# Build Model"
   ]
  },
  {
   "cell_type": "raw",
   "metadata": {},
   "source": [
    "Build the model. Key components of the model are as follows:\n",
    "\n",
    "1- Encoder- Encoder_inputs is used in order to encode the words into numeric data for processing by LSTM layers.\n",
    "2-LSTM Layers- We use 3 LSTM layers in order to process the data effectively. You can also experiment by adding or removing the layers in order to find more better accuracies. return_sequences in LSTM layer is set true until we want to add more layers consecutively.\n",
    "3-Decoder- Decoder again converts the numeric data into the understandable word formats."
   ]
  },
  {
   "cell_type": "code",
   "execution_count": 10,
   "metadata": {},
   "outputs": [],
   "source": [
    "from tensorflow.keras.layers import Input, LSTM, Embedding, Dense, Concatenate, TimeDistributed, Bidirectional\n",
    "from tensorflow.keras.models import Model\n",
    "from keras import backend as K \n",
    "K.clear_session()\n",
    "#\"latent_dim\" is the number of nodes used as input of the generator\n",
    "latent_dim = 500 "
   ]
  },
  {
   "cell_type": "markdown",
   "metadata": {},
   "source": [
    "# Attension layer"
   ]
  },
  {
   "cell_type": "raw",
   "metadata": {},
   "source": [
    "Adding the Attention layer: Attention layer is used to selectively choose the relevant information while discarding the non-useful information by cognitively mapping the generated sentences with the inputs of encoder layer.\n",
    "Dense Layer: It mathematically represents the matrix vector multiplication in neurons and is used to change the dimensions of the vectors for processing between various layers."
   ]
  },
  {
   "cell_type": "code",
   "execution_count": null,
   "metadata": {},
   "outputs": [],
   "source": [
    "import tensorflow as tf\n",
    "import os\n",
    "from tensorflow.python.keras.layers import Layer\n",
    "from tensorflow.python.keras import backend as K\n",
    "\n",
    "\n",
    "class AttentionLayer(Layer):\n",
    "    \"\"\"\n",
    "    This class implements Bahdanau attention (https://arxiv.org/pdf/1409.0473.pdf).\n",
    "    There are three sets of weights introduced W_a, U_a, and V_a\n",
    "     \"\"\"\n",
    "\n",
    "    def __init__(self, **kwargs):\n",
    "        super(AttentionLayer, self).__init__(**kwargs)\n",
    "\n",
    "    def build(self, input_shape):\n",
    "        assert isinstance(input_shape, list)\n",
    "        # Create a trainable weight variable for this layer.\n",
    "\n",
    "        self.W_a = self.add_weight(name='W_a',\n",
    "                                   shape=tf.TensorShape((input_shape[0][2], input_shape[0][2])),\n",
    "                                   initializer='uniform',\n",
    "                                   trainable=True)\n",
    "        self.U_a = self.add_weight(name='U_a',\n",
    "                                   shape=tf.TensorShape((input_shape[1][2], input_shape[0][2])),\n",
    "                                   initializer='uniform',\n",
    "                                   trainable=True)\n",
    "        self.V_a = self.add_weight(name='V_a',\n",
    "                                   shape=tf.TensorShape((input_shape[0][2], 1)),\n",
    "                                   initializer='uniform',\n",
    "                                   trainable=True)\n",
    "\n",
    "        super(AttentionLayer, self).build(input_shape)  # Be sure to call this at the end\n",
    "\n",
    "    def call(self, inputs, verbose=False):\n",
    "        \"\"\"\n",
    "        inputs: [encoder_output_sequence, decoder_output_sequence]\n",
    "        \"\"\"\n",
    "        assert type(inputs) == list\n",
    "        encoder_out_seq, decoder_out_seq = inputs\n",
    "        if verbose:\n",
    "            print('encoder_out_seq>', encoder_out_seq.shape)\n",
    "            print('decoder_out_seq>', decoder_out_seq.shape)\n",
    "\n",
    "        def energy_step(inputs, states):\n",
    "            \"\"\" Step function for computing energy for a single decoder state \"\"\"\n",
    "\n",
    "            assert_msg = \"States must be a list. However states {} is of type {}\".format(states, type(states))\n",
    "            assert isinstance(states, list) or isinstance(states, tuple), assert_msg\n",
    "\n",
    "            \"\"\" Some parameters required for shaping tensors\"\"\"\n",
    "            en_seq_len, en_hidden = encoder_out_seq.shape[1], encoder_out_seq.shape[2]\n",
    "            de_hidden = inputs.shape[-1]\n",
    "\n",
    "            \"\"\" Computing S.Wa where S=[s0, s1, ..., si]\"\"\"\n",
    "            # <= batch_size*en_seq_len, latent_dim\n",
    "            reshaped_enc_outputs = K.reshape(encoder_out_seq, (-1, en_hidden))\n",
    "            # <= batch_size*en_seq_len, latent_dim\n",
    "            W_a_dot_s = K.reshape(K.dot(reshaped_enc_outputs, self.W_a), (-1, en_seq_len, en_hidden))\n",
    "            if verbose:\n",
    "                print('wa.s>',W_a_dot_s.shape)\n",
    "\n",
    "            \"\"\" Computing hj.Ua \"\"\"\n",
    "            U_a_dot_h = K.expand_dims(K.dot(inputs, self.U_a), 1)  # <= batch_size, 1, latent_dim\n",
    "            if verbose:\n",
    "                print('Ua.h>',U_a_dot_h.shape)\n",
    "\n",
    "            \"\"\" tanh(S.Wa + hj.Ua) \"\"\"\n",
    "            # <= batch_size*en_seq_len, latent_dim\n",
    "            reshaped_Ws_plus_Uh = K.tanh(K.reshape(W_a_dot_s + U_a_dot_h, (-1, en_hidden)))\n",
    "            if verbose:\n",
    "                print('Ws+Uh>', reshaped_Ws_plus_Uh.shape)\n",
    "\n",
    "            \"\"\" softmax(va.tanh(S.Wa + hj.Ua)) \"\"\"\n",
    "            # <= batch_size, en_seq_len\n",
    "            e_i = K.reshape(K.dot(reshaped_Ws_plus_Uh, self.V_a), (-1, en_seq_len))\n",
    "            # <= batch_size, en_seq_len\n",
    "            e_i = K.softmax(e_i)\n",
    "\n",
    "            if verbose:\n",
    "                print('ei>', e_i.shape)\n",
    "\n",
    "            return e_i, [e_i]\n",
    "\n",
    "        def context_step(inputs, states):\n",
    "            \"\"\" Step function for computing ci using ei \"\"\"\n",
    "            # <= batch_size, hidden_size\n",
    "            c_i = K.sum(encoder_out_seq * K.expand_dims(inputs, -1), axis=1)\n",
    "            if verbose:\n",
    "                print('ci>', c_i.shape)\n",
    "            return c_i, [c_i]\n",
    "\n",
    "        def create_inital_state(inputs, hidden_size):\n",
    "            # We are not using initial states, but need to pass something to K.rnn funciton\n",
    "            fake_state = K.zeros_like(inputs)  # <= (batch_size, enc_seq_len, latent_dim\n",
    "            fake_state = K.sum(fake_state, axis=[1, 2])  # <= (batch_size)\n",
    "            fake_state = K.expand_dims(fake_state)  # <= (batch_size, 1)\n",
    "            fake_state = K.tile(fake_state, [1, hidden_size])  # <= (batch_size, latent_dim\n",
    "            return fake_state\n",
    "\n",
    "        fake_state_c = create_inital_state(encoder_out_seq, encoder_out_seq.shape[-1])\n",
    "        fake_state_e = create_inital_state(encoder_out_seq, encoder_out_seq.shape[1])  # <= (batch_size, enc_seq_len, latent_dim\n",
    "\n",
    "        return fake_state_c, fake_state_e\n",
    "\n",
    "    def compute_output_shape(self, input_shape):\n",
    "        \"\"\" Outputs produced by the layer \"\"\"\n",
    "        return [\n",
    "            tf.TensorShape((input_shape[1][0], input_shape[1][1], input_shape[1][2])),\n",
    "            tf.TensorShape((input_shape[1][0], input_shape[1][1], input_shape[0][1]))\n",
    "        ]\n",
    "\n"
   ]
  },
  {
   "cell_type": "code",
   "execution_count": 11,
   "metadata": {},
   "outputs": [],
   "source": [
    "def build_model():\n",
    "    # Encoder \n",
    "    encoder_inputs = Input(shape=(max_len_text,)) \n",
    "    enc_emb = Embedding(x_voc_size, latent_dim,trainable=True)(encoder_inputs) \n",
    "    #Preparing LSTM layer 1 \n",
    "    encoder_lstm1 = LSTM(latent_dim,return_sequences=True,return_state=True) \n",
    "    encoder_output1, state_h1, state_c1 = encoder_lstm1(enc_emb) \n",
    "    #Preparing LSTM layer 2\n",
    "    encoder_lstm2 = LSTM(latent_dim,return_sequences=True,return_state=True) \n",
    "    encoder_output2, state_h2, state_c2 = encoder_lstm2(encoder_output1) \n",
    "    #Preparing LSTM layer 3\n",
    "    encoder_lstm3=LSTM(latent_dim, return_state=True, return_sequences=True) \n",
    "    encoder_outputs, state_h, state_c= encoder_lstm3(encoder_output2) \n",
    "    # Decoder layer \n",
    "    decoder_inputs = Input(shape=(None,)) \n",
    "    dec_emb_layer = Embedding(y_voc_size, latent_dim,trainable=True) \n",
    "    dec_emb = dec_emb_layer(decoder_inputs) \n",
    "    decoder_lstm = LSTM(latent_dim, return_sequences=True, return_state=True) \n",
    "    decoder_outputs,decoder_fwd_state, decoder_back_state = decoder_lstm(dec_emb,initial_state=[state_h, state_c]) \n",
    "    #Attention Layer\n",
    "    attn_layer = AttentionLayer(name='attention_layer') \n",
    "    attn_out, attn_states = attn_layer([encoder_outputs, decoder_outputs])\n",
    "    #Adding the dense layer\n",
    "    decoder_dense = TimeDistributed(Dense(y_voc_size, activation='softmax')) \n",
    "    decoder_outputs = decoder_dense(decoder_outputs) \n",
    "    # Prepare the model\n",
    "    model = Model([encoder_inputs, decoder_inputs], decoder_outputs) \n",
    "    # Compiling the RNN model\n",
    "    #Compilation\n",
    "    #Before training a model, you need to configure the learning process,\n",
    "    #which is done via the compile method. It receives three arguments:\n",
    "    #Optimization is an important process which optimize the input weights by comparing the prediction and the loss function. (such as rmsprop or adagrad)\n",
    "    #a loss function. This is the objective that the model will try to minimize Loss function is used to find error or deviation in the learning process. \n",
    "    #Keras requires loss function during model compilation process.\n",
    "    #Metrics is used to evaluate the performance of your model\n",
    "    \n",
    "    model.compile(optimizer='rmsprop', loss='sparse_categorical_crossentropy' ,metrics=['accuracy'])\n",
    "    model.summary()\n",
    "    return model"
   ]
  },
  {
   "cell_type": "code",
   "execution_count": 12,
   "metadata": {},
   "outputs": [
    {
     "name": "stdout",
     "output_type": "stream",
     "text": [
      "Model: \"model\"\n",
      "__________________________________________________________________________________________________\n",
      " Layer (type)                   Output Shape         Param #     Connected to                     \n",
      "==================================================================================================\n",
      " input_1 (InputLayer)           [(None, 500)]        0           []                               \n",
      "                                                                                                  \n",
      " embedding (Embedding)          (None, 500, 500)     33412000    ['input_1[0][0]']                \n",
      "                                                                                                  \n",
      " lstm (LSTM)                    [(None, 500, 500),   2002000     ['embedding[0][0]']              \n",
      "                                 (None, 500),                                                     \n",
      "                                 (None, 500)]                                                     \n",
      "                                                                                                  \n",
      " input_2 (InputLayer)           [(None, None)]       0           []                               \n",
      "                                                                                                  \n",
      " lstm_1 (LSTM)                  [(None, 500, 500),   2002000     ['lstm[0][0]']                   \n",
      "                                 (None, 500),                                                     \n",
      "                                 (None, 500)]                                                     \n",
      "                                                                                                  \n",
      " embedding_1 (Embedding)        (None, None, 500)    3762000     ['input_2[0][0]']                \n",
      "                                                                                                  \n",
      " lstm_2 (LSTM)                  [(None, 500, 500),   2002000     ['lstm_1[0][0]']                 \n",
      "                                 (None, 500),                                                     \n",
      "                                 (None, 500)]                                                     \n",
      "                                                                                                  \n",
      " lstm_3 (LSTM)                  [(None, None, 500),  2002000     ['embedding_1[0][0]',            \n",
      "                                 (None, 500),                     'lstm_2[0][1]',                 \n",
      "                                 (None, 500)]                     'lstm_2[0][2]']                 \n",
      "                                                                                                  \n",
      " time_distributed (TimeDistribu  (None, None, 7524)  3769524     ['lstm_3[0][0]']                 \n",
      " ted)                                                                                             \n",
      "                                                                                                  \n",
      "==================================================================================================\n",
      "Total params: 48,951,524\n",
      "Trainable params: 48,951,524\n",
      "Non-trainable params: 0\n",
      "__________________________________________________________________________________________________\n"
     ]
    }
   ],
   "source": [
    "model=build_model()"
   ]
  },
  {
   "cell_type": "raw",
   "metadata": {},
   "source": []
  },
  {
   "cell_type": "code",
   "execution_count": null,
   "metadata": {},
   "outputs": [],
   "source": []
  },
  {
   "cell_type": "code",
   "execution_count": null,
   "metadata": {},
   "outputs": [],
   "source": []
  },
  {
   "cell_type": "markdown",
   "metadata": {},
   "source": [
    "# Train Model on a batch size of 512 and validate it on  10% of our dataset:"
   ]
  },
  {
   "cell_type": "code",
   "execution_count": 13,
   "metadata": {},
   "outputs": [],
   "source": [
    "def Training_(ep,bs):\n",
    "    history = model.fit(\n",
    "    [x_tr, y_tr[:, :-1]],\n",
    "    y_tr.reshape(y_tr.shape[0], y_tr.shape[1], 1)[:, 1:],\n",
    "    epochs=ep,\n",
    "    batch_size=bs,\n",
    "    validation_data=([x_val, y_val[:, :-1]], y_val.reshape(y_val.shape[0], y_val.shape[1], 1)[:, 1:]),\n",
    "    )\n",
    "    return history"
   ]
  },
  {
   "cell_type": "code",
   "execution_count": 14,
   "metadata": {},
   "outputs": [
    {
     "name": "stdout",
     "output_type": "stream",
     "text": [
      "Epoch 1/50\n",
      "2/2 [==============================] - 450s 164s/step - loss: 8.8837 - accuracy: 0.0991 - val_loss: 7.7930 - val_accuracy: 0.2051\n",
      "Epoch 2/50\n",
      "2/2 [==============================] - 495s 177s/step - loss: 7.3091 - accuracy: 0.2281 - val_loss: 6.5143 - val_accuracy: 0.2051\n",
      "Epoch 3/50\n",
      "2/2 [==============================] - 458s 179s/step - loss: 6.4312 - accuracy: 0.2281 - val_loss: 6.4270 - val_accuracy: 0.2051\n",
      "Epoch 4/50\n",
      "2/2 [==============================] - 441s 164s/step - loss: 6.3305 - accuracy: 0.2281 - val_loss: 6.4209 - val_accuracy: 0.2051\n",
      "Epoch 5/50\n",
      "2/2 [==============================] - 449s 179s/step - loss: 6.3448 - accuracy: 0.2281 - val_loss: 6.4029 - val_accuracy: 0.2051\n",
      "Epoch 6/50\n",
      "2/2 [==============================] - 558s 218s/step - loss: 6.2745 - accuracy: 0.2281 - val_loss: 6.3717 - val_accuracy: 0.2051\n",
      "Epoch 7/50\n",
      "2/2 [==============================] - 556s 196s/step - loss: 6.2136 - accuracy: 0.2281 - val_loss: 6.3614 - val_accuracy: 0.2051\n",
      "Epoch 8/50\n",
      "2/2 [==============================] - 578s 252s/step - loss: 6.1946 - accuracy: 0.2281 - val_loss: 6.3778 - val_accuracy: 0.2051\n",
      "Epoch 9/50\n",
      "2/2 [==============================] - 500s 178s/step - loss: 6.1883 - accuracy: 0.2281 - val_loss: 6.2760 - val_accuracy: 0.2051\n",
      "Epoch 10/50\n",
      "2/2 [==============================] - 541s 160s/step - loss: 6.0642 - accuracy: 0.2281 - val_loss: 6.2195 - val_accuracy: 0.2051\n",
      "Epoch 11/50\n",
      "2/2 [==============================] - 529s 169s/step - loss: 6.0180 - accuracy: 0.2281 - val_loss: 6.2468 - val_accuracy: 0.2051\n",
      "Epoch 12/50\n",
      "2/2 [==============================] - 549s 187s/step - loss: 5.9899 - accuracy: 0.2281 - val_loss: 6.0981 - val_accuracy: 0.2051\n",
      "Epoch 13/50\n",
      "2/2 [==============================] - 530s 192s/step - loss: 5.8440 - accuracy: 0.2281 - val_loss: 6.0361 - val_accuracy: 0.2051\n",
      "Epoch 14/50\n",
      "2/2 [==============================] - 549s 175s/step - loss: 5.7759 - accuracy: 0.2281 - val_loss: 6.0332 - val_accuracy: 0.2051\n",
      "Epoch 15/50\n",
      "2/2 [==============================] - 568s 231s/step - loss: 5.7658 - accuracy: 0.2293 - val_loss: 6.0163 - val_accuracy: 0.2051\n",
      "Epoch 16/50\n",
      "2/2 [==============================] - 554s 202s/step - loss: 5.7078 - accuracy: 0.2294 - val_loss: 5.9860 - val_accuracy: 0.2056\n",
      "Epoch 17/50\n",
      "2/2 [==============================] - 524s 196s/step - loss: 5.6703 - accuracy: 0.2288 - val_loss: 5.9848 - val_accuracy: 0.2074\n",
      "Epoch 18/50\n",
      "2/2 [==============================] - 551s 228s/step - loss: 5.6745 - accuracy: 0.2297 - val_loss: 5.9841 - val_accuracy: 0.2082\n",
      "Epoch 19/50\n",
      "2/2 [==============================] - 559s 191s/step - loss: 5.6656 - accuracy: 0.2303 - val_loss: 5.9750 - val_accuracy: 0.2082\n",
      "Epoch 20/50\n",
      "2/2 [==============================] - 558s 173s/step - loss: 5.6173 - accuracy: 0.2307 - val_loss: 5.9680 - val_accuracy: 0.2108\n",
      "Epoch 21/50\n",
      "2/2 [==============================] - 682s 193s/step - loss: 5.5968 - accuracy: 0.2317 - val_loss: 5.9687 - val_accuracy: 0.2109\n",
      "Epoch 22/50\n",
      "2/2 [==============================] - 579s 222s/step - loss: 5.5775 - accuracy: 0.2316 - val_loss: 5.9684 - val_accuracy: 0.2119\n",
      "Epoch 23/50\n",
      "2/2 [==============================] - 559s 197s/step - loss: 5.5594 - accuracy: 0.2324 - val_loss: 5.9703 - val_accuracy: 0.2117\n",
      "Epoch 24/50\n",
      "2/2 [==============================] - 555s 197s/step - loss: 5.5512 - accuracy: 0.2324 - val_loss: 6.0918 - val_accuracy: 0.2118\n",
      "Epoch 25/50\n",
      "2/2 [==============================] - 534s 197s/step - loss: 5.6494 - accuracy: 0.2330 - val_loss: 6.0057 - val_accuracy: 0.2120\n",
      "Epoch 26/50\n",
      "2/2 [==============================] - 688s 212s/step - loss: 5.5391 - accuracy: 0.2338 - val_loss: 5.9745 - val_accuracy: 0.2094\n",
      "Epoch 27/50\n",
      "2/2 [==============================] - 655s 217s/step - loss: 5.5045 - accuracy: 0.2320 - val_loss: 5.9710 - val_accuracy: 0.2121\n",
      "Epoch 28/50\n",
      "2/2 [==============================] - 642s 204s/step - loss: 5.5039 - accuracy: 0.2332 - val_loss: 5.9816 - val_accuracy: 0.2112\n",
      "Epoch 29/50\n",
      "2/2 [==============================] - 546s 196s/step - loss: 5.4962 - accuracy: 0.2344 - val_loss: 5.9848 - val_accuracy: 0.2083\n",
      "Epoch 30/50\n",
      "2/2 [==============================] - 576s 201s/step - loss: 5.4761 - accuracy: 0.2325 - val_loss: 5.9908 - val_accuracy: 0.2098\n",
      "Epoch 31/50\n",
      "2/2 [==============================] - 664s 254s/step - loss: 5.4589 - accuracy: 0.2336 - val_loss: 5.9767 - val_accuracy: 0.2116\n",
      "Epoch 32/50\n",
      "2/2 [==============================] - 624s 232s/step - loss: 5.4307 - accuracy: 0.2340 - val_loss: 5.9781 - val_accuracy: 0.2115\n",
      "Epoch 33/50\n",
      "2/2 [==============================] - 661s 223s/step - loss: 5.4213 - accuracy: 0.2351 - val_loss: 5.9975 - val_accuracy: 0.2097\n",
      "Epoch 34/50\n",
      "2/2 [==============================] - 611s 199s/step - loss: 5.4236 - accuracy: 0.2340 - val_loss: 5.9886 - val_accuracy: 0.2122\n",
      "Epoch 35/50\n",
      "2/2 [==============================] - 721s 196s/step - loss: 5.3823 - accuracy: 0.2348 - val_loss: 5.9992 - val_accuracy: 0.2115\n",
      "Epoch 36/50\n",
      "2/2 [==============================] - 722s 201s/step - loss: 5.3925 - accuracy: 0.2349 - val_loss: 5.9841 - val_accuracy: 0.2129\n",
      "Epoch 37/50\n",
      "2/2 [==============================] - 682s 211s/step - loss: 5.3717 - accuracy: 0.2353 - val_loss: 5.9916 - val_accuracy: 0.2172\n",
      "Epoch 38/50\n",
      "2/2 [==============================] - 726s 244s/step - loss: 5.3480 - accuracy: 0.2377 - val_loss: 6.0190 - val_accuracy: 0.2163\n",
      "Epoch 39/50\n",
      "2/2 [==============================] - 741s 262s/step - loss: 5.3383 - accuracy: 0.2387 - val_loss: 6.0086 - val_accuracy: 0.2143\n",
      "Epoch 40/50\n",
      "2/2 [==============================] - 708s 231s/step - loss: 5.3056 - accuracy: 0.2369 - val_loss: 6.0191 - val_accuracy: 0.2126\n",
      "Epoch 41/50\n",
      "2/2 [==============================] - 624s 205s/step - loss: 5.3145 - accuracy: 0.2370 - val_loss: 6.0187 - val_accuracy: 0.2131\n",
      "Epoch 42/50\n",
      "2/2 [==============================] - 748s 227s/step - loss: 5.2777 - accuracy: 0.2378 - val_loss: 6.0331 - val_accuracy: 0.2150\n",
      "Epoch 43/50\n",
      "2/2 [==============================] - 640s 238s/step - loss: 5.2691 - accuracy: 0.2396 - val_loss: 6.0199 - val_accuracy: 0.2149\n",
      "Epoch 44/50\n",
      "2/2 [==============================] - 701s 215s/step - loss: 5.2362 - accuracy: 0.2387 - val_loss: 6.0313 - val_accuracy: 0.2130\n",
      "Epoch 45/50\n",
      "2/2 [==============================] - 645s 214s/step - loss: 5.2270 - accuracy: 0.2390 - val_loss: 6.0147 - val_accuracy: 0.2145\n",
      "Epoch 46/50\n",
      "2/2 [==============================] - 790s 220s/step - loss: 5.2093 - accuracy: 0.2400 - val_loss: 6.0045 - val_accuracy: 0.2163\n",
      "Epoch 47/50\n",
      "2/2 [==============================] - 742s 221s/step - loss: 5.2091 - accuracy: 0.2410 - val_loss: 6.0241 - val_accuracy: 0.2163\n",
      "Epoch 48/50\n",
      "2/2 [==============================] - 705s 231s/step - loss: 5.2043 - accuracy: 0.2426 - val_loss: 6.0329 - val_accuracy: 0.2161\n",
      "Epoch 49/50\n",
      "2/2 [==============================] - 747s 230s/step - loss: 5.1695 - accuracy: 0.2423 - val_loss: 6.0385 - val_accuracy: 0.2153\n",
      "Epoch 50/50\n",
      "2/2 [==============================] - 728s 242s/step - loss: 5.1467 - accuracy: 0.2431 - val_loss: 6.0403 - val_accuracy: 0.2152\n"
     ]
    }
   ],
   "source": [
    "history=Training_(50,512)"
   ]
  },
  {
   "cell_type": "code",
   "execution_count": 15,
   "metadata": {},
   "outputs": [
    {
     "data": {
      "image/png": "[encoded data removed]",
      "text/plain": [
       "<Figure size 432x288 with 1 Axes>"
      ]
     },
     "metadata": {
      "needs_background": "light"
     },
     "output_type": "display_data"
    }
   ],
   "source": [
    "#Visualizing Loss\n",
    "from matplotlib import pyplot\n",
    "pyplot.plot(history.history['loss'], label='train')\n",
    "pyplot.plot(history.history['val_loss'], label='test')\n",
    "pyplot.legend()\n",
    "pyplot.show()"
   ]
  },
  {
   "cell_type": "code",
   "execution_count": 16,
   "metadata": {},
   "outputs": [
    {
     "data": {
      "image/png": "[encoded data removed]",
      "text/plain": [
       "<Figure size 432x288 with 1 Axes>"
      ]
     },
     "metadata": {
      "needs_background": "light"
     },
     "output_type": "display_data"
    }
   ],
   "source": [
    "#Visualizing Accuracy \n",
    "from matplotlib import pyplot\n",
    "pyplot.plot(history.history['accuracy'], label='train') \n",
    "pyplot.plot(history.history['val_accuracy'], label='test') \n",
    "pyplot.legend() \n",
    "pyplot.show()"
   ]
  },
  {
   "cell_type": "code",
   "execution_count": 17,
   "metadata": {},
   "outputs": [
    {
     "name": "stdout",
     "output_type": "stream",
     "text": [
      "27/27 [==============================] - 352s 13s/step - loss: 5.1066 - accuracy: 0.2433\n"
     ]
    },
    {
     "data": {
      "text/plain": [
       "[5.106645107269287, 0.24330206215381622]"
      ]
     },
     "execution_count": 17,
     "metadata": {},
     "output_type": "execute_result"
    }
   ],
   "source": [
    "model.evaluate([x_tr, y_tr[:, :-1]],y_tr.reshape(y_tr.shape[0], y_tr.shape[1], 1)[:, 1:])"
   ]
  },
  {
   "cell_type": "markdown",
   "metadata": {},
   "source": [
    "# Build the dictionary to convert the index to word for target and source vocabulary"
   ]
  },
  {
   "cell_type": "code",
   "execution_count": 18,
   "metadata": {},
   "outputs": [],
   "source": [
    "reverse_target_word_index = y_tokenizer.index_word\n",
    "reverse_source_word_index = x_tokenizer.index_word\n",
    "target_word_index = y_tokenizer.word_index"
   ]
  },
  {
   "cell_type": "markdown",
   "metadata": {},
   "source": [
    "# Build Inference"
   ]
  },
  {
   "cell_type": "code",
   "execution_count": 40,
   "metadata": {},
   "outputs": [],
   "source": [
    "def Build_Inference():\n",
    "    # Inference Models\n",
    "    encoder_inputs = Input(shape=(max_len_text,)) \n",
    "    enc_emb = Embedding(x_voc_size, latent_dim,trainable=True)(encoder_inputs) \n",
    "    #Preparing LSTM layer 1 \n",
    "    encoder_lstm1 = LSTM(latent_dim,return_sequences=True,return_state=True) \n",
    "    encoder_output1, state_h1, state_c1 = encoder_lstm1(enc_emb) \n",
    "    #Preparing LSTM layer 2\n",
    "    encoder_lstm2 = LSTM(latent_dim,return_sequences=True,return_state=True) \n",
    "    encoder_output2, state_h2, state_c2 = encoder_lstm2(encoder_output1) \n",
    "    #Preparing LSTM layer 3\n",
    "    encoder_lstm3=LSTM(latent_dim, return_state=True, return_sequences=True) \n",
    "    encoder_outputs, state_h, state_c= encoder_lstm3(encoder_output2) \n",
    "    # Decoder layer \n",
    "    decoder_inputs = Input(shape=(None,)) \n",
    "    dec_emb_layer = Embedding(y_voc_size, latent_dim,trainable=True) \n",
    "    dec_emb = dec_emb_layer(decoder_inputs) \n",
    "    decoder_lstm = LSTM(latent_dim, return_sequences=True, return_state=True) \n",
    "    decoder_outputs,decoder_fwd_state, decoder_back_state = decoder_lstm(dec_emb,initial_state=[state_h, state_c]) \n",
    "    #Adding the dense layer\n",
    "    decoder_dense = TimeDistributed(Dense(y_voc_size, activation='softmax')) \n",
    "    decoder_outputs = decoder_dense(decoder_outputs) \n",
    "     # Encoder \n",
    "    encoder_inputs = Input(shape=(max_len_text,)) \n",
    "    enc_emb = Embedding(x_voc_size, latent_dim,trainable=True)(encoder_inputs) \n",
    "    #Preparing LSTM layer 1 \n",
    "    encoder_lstm1 = LSTM(latent_dim,return_sequences=True,return_state=True) \n",
    "    encoder_output1, state_h1, state_c1 = encoder_lstm1(enc_emb) \n",
    "    #Preparing LSTM layer 2\n",
    "    encoder_lstm2 = LSTM(latent_dim,return_sequences=True,return_state=True) \n",
    "    encoder_output2, state_h2, state_c2 = encoder_lstm2(encoder_output1) \n",
    "    #Preparing LSTM layer 3\n",
    "    encoder_lstm3=LSTM(latent_dim, return_state=True, return_sequences=True) \n",
    "    encoder_outputs, state_h, state_c= encoder_lstm3(encoder_output2) \n",
    "    # Encode the input sequence to get the feature vector\n",
    "    encoder_model = Model(inputs=encoder_inputs, outputs=[encoder_outputs,state_h, state_c])\n",
    "    encoder_model.compile(optimizer='rmsprop', loss='sparse_categorical_crossentropy')\n",
    "    # Decoder setup\n",
    "    # Below tensors will hold the states of the previous time step\n",
    "    decoder_state_input_h = Input(shape=(latent_dim, ))\n",
    "    decoder_state_input_c = Input(shape=(latent_dim, ))\n",
    "    decoder_hidden_state_input = Input(shape=(max_len_text, latent_dim))\n",
    "    # Get the embeddings of the decoder sequence\n",
    "    dec_emb2 = dec_emb_layer(decoder_inputs)\n",
    "    # To predict the next word in the sequence, set the initial states to the states from the previous time step\n",
    "    (decoder_outputs2, state_h2, state_c2) = decoder_lstm(dec_emb2,initial_state=[decoder_state_input_h, decoder_state_input_c])\n",
    "    # A dense softmax layer to generate prob dist. over the target vocabulary\n",
    "    decoder_outputs2 = decoder_dense(decoder_outputs2)\n",
    "    # Final decoder model\n",
    "    decoder_model = Model([decoder_inputs] + [decoder_hidden_state_input,decoder_state_input_h, decoder_state_input_c],[decoder_outputs2] + [state_h2, state_c2])\n",
    "    return encoder_model,decoder_model"
   ]
  },
  {
   "cell_type": "code",
   "execution_count": 41,
   "metadata": {},
   "outputs": [],
   "source": [
    "encoder_model,decoder_model=Build_Inference()"
   ]
  },
  {
   "cell_type": "markdown",
   "metadata": {},
   "source": [
    "# Implementation of the inference process"
   ]
  },
  {
   "cell_type": "code",
   "execution_count": 43,
   "metadata": {},
   "outputs": [],
   "source": [
    "def decode_sequence(input_seq):\n",
    "\n",
    "    # Encode the input as state vectors.\n",
    "    (e_out, e_h, e_c) = encoder_model.predict(input_seq)\n",
    "\n",
    "    # Generate empty target sequence of length 1\n",
    "    target_seq = np.zeros((1, 1))\n",
    "\n",
    "    # Populate the first word of target sequence with the start word.\n",
    "    target_seq[0, 0] = target_word_index['start']\n",
    "\n",
    "    stop_condition = False\n",
    "    decoded_sentence = ''\n",
    "\n",
    "    while not stop_condition:\n",
    "        (output_tokens, h, c) = decoder_model.predict([target_seq]\n",
    "                + [e_out, e_h, e_c])\n",
    "\n",
    "        # Sample a token\n",
    "        sampled_token_index = np.argmax(output_tokens[0, -1, :])\n",
    "        sampled_token = reverse_target_word_index[sampled_token_index]\n",
    "\n",
    "        if sampled_token != 'end':\n",
    "            decoded_sentence += ' ' + sampled_token\n",
    "\n",
    "        # Exit condition: either hit max length or find the stop word.\n",
    "        if sampled_token == 'end' or len(decoded_sentence.split()) \\\n",
    "            >= max_len_summary - 1:\n",
    "            stop_condition = True\n",
    "\n",
    "        # Update the target sequence (of length 1)\n",
    "        target_seq = np.zeros((1, 1))\n",
    "        target_seq[0, 0] = sampled_token_index\n",
    "\n",
    "        # Update internal states\n",
    "        (e_h, e_c) = (h, c)\n",
    "\n",
    "    return decoded_sentence"
   ]
  },
  {
   "cell_type": "markdown",
   "metadata": {},
   "source": [
    "# Convert an integer sequence to a word sequence"
   ]
  },
  {
   "cell_type": "code",
   "execution_count": 44,
   "metadata": {},
   "outputs": [],
   "source": [
    "## Making the seq2seq summary\n",
    "def seq2seqsummary(input_sequence):\n",
    "    newString=''\n",
    "    for i in input_sequence:\n",
    "      if((i!=0 and i!=target_word_index['start']) and i!=target_word_index['end']):\n",
    "        newString=newString+reverse_target_word_index[i]+' '\n",
    "    return newString\n",
    "\n",
    "\n",
    "# To convert sequence to text\n",
    "def seq2text(input_seq):\n",
    "    newString = ''\n",
    "    for i in input_seq:\n",
    "        if i != 0:\n",
    "            newString = newString + reverse_source_word_index[i] + ' '\n",
    "\n",
    "    return newString"
   ]
  },
  {
   "cell_type": "code",
   "execution_count": 52,
   "metadata": {},
   "outputs": [],
   "source": [
    "model.save('model.h5')"
   ]
  },
  {
   "cell_type": "code",
   "execution_count": 53,
   "metadata": {},
   "outputs": [],
   "source": [
    "encoder_model.save('encoder_model.h5')"
   ]
  },
  {
   "cell_type": "code",
   "execution_count": 54,
   "metadata": {},
   "outputs": [
    {
     "name": "stdout",
     "output_type": "stream",
     "text": [
      "WARNING:tensorflow:Compiled the loaded model, but the compiled metrics have yet to be built. `model.compile_metrics` will be empty until you train or evaluate the model.\n"
     ]
    }
   ],
   "source": [
    "decoder_model.save('decoder_model.h5')"
   ]
  },
  {
   "cell_type": "markdown",
   "metadata": {},
   "source": [
    "# Prediction"
   ]
  },
  {
   "cell_type": "code",
   "execution_count": 47,
   "metadata": {},
   "outputs": [
    {
     "name": "stdout",
     "output_type": "stream",
     "text": [
      "Original summary: complex main acm users wise improving fails visualization phoneme unsupervised complicated required suggests usunier arxiv desired adam recurrent account error arxiv desired adam sequence reading unsupervised approaches matrix sentence generation rate iii taken replaced since common ufeff blocks recognition get arxiv desired training extractive ing sphinx loss learning improve sentence \n",
      "\n",
      "\n",
      "Predicted summary:  aesthetic copies noises prior proliferated sought aesthetic proliferated objective notators diagnostic tonal multiple vised memory deployment layered comparative complicated exhaustive usually concise mqan cients concatenated vestigate repre respect mes mes formulated formulated formulated exibility names names target equiva unsuper simon derived derived compu describing lary deterioration rnngs rnngs commonalities\n",
      "\n",
      "\n",
      "Original summary: three second items parameters preprint parameters two translating high parameters reason maas scoring parameters far gnmf word input niques topic develop viewed recent applications outputs function unnormalized true chen high cation sequence context natural linguistics preprint level training lstm systems vector method training like ufeff model introduction speci language set \n",
      "\n",
      "\n",
      "Predicted summary:  inclusive facebook ques border chatbots orders localization subgraphs shaped composition composition tfidf ator aggregated inject coverage hul factorize hash meaningless unannotated immediate message road constrain questions tags platform amaury xie ted correlates rarely machines photogra processes conll photogra uated versions algorithmically reflect gates translations ontonotes must translations stable translating\n",
      "\n",
      "\n",
      "Original summary: word natural linguistics learning failure creutz method training large using datasets source label match entire needed default sutskever sen zhang journal speedup children acl use also loss gradient lines acknowledgments workshop lookup post word natural linguistics model feature bring acl introduce jean \n",
      "\n",
      "\n",
      "Predicted summary:  visits elicit elicit socher within within lem fox lum lum linguis permutation kawahara planning hin solutions monitoring solved tractable tractable utilization major tained nnovative ther linearly linearly ratings ratings imposing experts ganda ganda tors tors past equipped equipped road carefully comprises affecting andrea andrea curately ther architectures replacement replacement\n",
      "\n",
      "\n",
      "Original summary: considering hierarchical data state word classi mohammad factor pages contain feature used dense cost deep users fold classi large pages ufeff state word classi user image data emoji ation network delicious models acero model image pairs settings dependent probability acl architectures ufeff networks granularity setting step zhang pairs recurrent weak \n",
      "\n",
      "\n",
      "Predicted summary:  nitish texts approx retrieval progres kaveh plagiarize underlying dering mir vocabular bilingual tun lexicon consolidating bosc drawn rouge rouge thesauri tool schlafen comparatively traditional assum condi efficiencies variants variants bringing uninterpretability pines pines provides peng correspond disconnects genetic retrieving recipes changing coverage huang huang ent ent bottom scikit scikit\n",
      "\n",
      "\n",
      "Original summary: connected personalized clear training size attention system encoder using son default obtained sample gonzalez wei appendix monga usa karen using true hence multiple sample min org boards conference huang repre date satis translations leaky ufeff access authors aspect using feedback long learning robustness using clark generation vector system summary technology \n",
      "\n",
      "\n",
      "Predicted summary:  aesthetic cambria gumbel pirical segmen numerous numerous imenting leverage tem irregular references sian pines pines sanity theo monotonic properties ren sentation cavp story variants ory encoder pat perhaps putational kyoto eral licenses wikidata quora josef past released restarts restarts restarts functionally assigned permutation circle gru involves tiagent arseny seqgan\n",
      "\n",
      "\n",
      "Original summary: association skip penn ability mckeown use also intelligence whose item model random report query annotations form refcoco respect proceedings places sim latent linear heads know kgat places validation page source negative sentence ufeff networks better thus speci language set item given random report query annotations improvement text neural task information \n",
      "\n",
      "\n",
      "Predicted summary:  nitish mrl drafts pronunciation prag purposes advertisements accept prospective tns quora almost tillation performance handled aggregated aggregated woven military aggregated inject likely likely intentionally becoming robust tting ysis utiliz lores ere ere oor larization collection broader utiliz gracefully index setbacks composition way way erik receives receives trivial chi trivial\n",
      "\n",
      "\n",
      "Original summary: self neural failed text mkn ltering effectively headlines groups proceedings text goal sim algorithm directly composition strategy computational percentage references development also proposed unique recsys cally cross swer following self neural failed text mse loss intuitive neural failed layer international sentence product experiments data results table network case two without \n",
      "\n",
      "\n",
      "Predicted summary:  pieces shaped ulms tried justi justi evaluation hindi tively huge advanced advanced tackling influencers influencers begun pletely late thirteenth dependency integrat schlafen supplied supplied forcement dehdari perceive raise interaction framework locuslab ups imple imple descent bytenet path voices forces implies fuses nprf sults poetry poetry lari inadequate comparatively comparatively\n",
      "\n",
      "\n",
      "Original summary: cation probabilistic \n",
      "\n",
      "\n",
      "Predicted summary:  aesthetic butions conll variables overhead necati extrapolation sst mea setups happened terpretation residual sule local local chris chris combinations web pnns corresponding instrument entirely entirely suitability turn stackover xin previ seg near marco temporal ningmiao aiming icons much take statistically arise dictionaries arise favorable advan spatial roughly reproduction ilar\n",
      "\n",
      "\n",
      "Original summary: attention per approaches attention using requires users genetic cho likelihood arxiv function speci future high dean function evaluate per gtx ing types true include vector function sequence hidden language set causal preferences discussed online arxiv vice development ufeff include cho systems vector features unk bene openai radford tokens robert evaluation \n",
      "\n",
      "\n",
      "Predicted summary:  transduction parallel ricerche rouge targeted targeted produced roman roman intersection property property brute checker property brute replications parses important nesting collaboration promoting development family replacement sma christophe christophe whilst pennsylvania tusimple zimmerman transformations sexist exibility surpris page hutter ferentiable ferentiable paperrobot tentially collapsed dyer shares shares unwanted junior junior\n",
      "\n",
      "\n",
      "Original summary: draw icon word task information \n",
      "\n",
      "\n",
      "Predicted summary:  visits elicit elicit socher within within lem fox lum lum linguis permutation kawahara planning hin solutions monitoring solved tractable tractable utilization major tained nnovative ther linearly linearly ratings ratings imposing experts ganda ganda tors tors past equipped equipped road carefully comprises affecting andrea andrea curately ther architectures replacement replacement\n",
      "\n",
      "\n",
      "Original summary: darrell right latent phrases model neural database preprint sequence pro newstest reviews recommender literature interactions width devlin page representation related data results table particular parent vector using ufeff words allocation module techniques representations sparse varying first assess retrieval future architecture audio network literature recommender achieved various network source spectral recommender \n",
      "\n",
      "\n",
      "Predicted summary:  visits elicit elicit socher within within lem fox lum lum linguis permutation kawahara planning hin solutions monitoring solved tractable tractable utilization major tained nnovative ther linearly linearly ratings ratings imposing experts ganda ganda tors tors past equipped equipped road carefully comprises affecting andrea andrea curately ther architectures replacement replacement\n",
      "\n",
      "\n",
      "Original summary: speech connected found training cient \n",
      "\n",
      "\n",
      "Predicted summary:  visits elicit elicit socher within within lem fox lum lum linguis permutation kawahara planning hin solutions monitoring solved tractable tractable utilization major tained nnovative ther linearly linearly ratings ratings imposing experts ganda ganda tors tors past equipped equipped road carefully comprises affecting andrea andrea curately ther architectures replacement replacement\n",
      "\n",
      "\n",
      "Original summary: cases international theory models given test focus single attention language set ufeff different arxiv long study max simple learning deeper quence language set many single scale page computational often system progress usa base page feedback copies sequence non url existence level crafted dominated language set rather focus many speaker dbpedia \n",
      "\n",
      "\n",
      "Predicted summary:  transduction parallel ricerche rouge targeted targeted produced roman roman intersection property property brute checker property brute replications parses important nesting collaboration promoting development family replacement sma christophe christophe whilst pennsylvania tusimple zimmerman transformations sexist exibility surpris page hutter ferentiable ferentiable paperrobot tentially collapsed dyer shares shares unwanted junior junior\n",
      "\n",
      "\n",
      "Original summary: idf linguistics \n",
      "\n",
      "\n",
      "Predicted summary:  integrating latest relies post post jamia tence tence interpolation dynamic dynamic approx rescaling various forces vulner inclusive ularies brnn tory platform mousa necati tify supple supple niques automl laha cvrcf cvrcf corro varies relay friends reduce simpli consistently inferior dress conventional success saturation sites turns turns glyphs biomedical tationally\n",
      "\n",
      "\n",
      "Original summary: document reasonable states order linguistic greedy weight precise vec target also proposed seen train function available define may machine observed network equal semi developed generation open weight \n",
      "\n",
      "\n",
      "Predicted summary:  nitish voices utterance paral ine dur crucial mdp maximum maximum maximum lutions solutions permuting subwords searching artetxem voices paral equivari equivari struc denoised nearest multicore multicore compactness operational reconsidered communication rush arora julien julien ruths artists crnn naive testing rans makes makes laptop mitigating plex mitigating erik retrieve onto\n",
      "\n",
      "\n",
      "Original summary: document \n",
      "\n",
      "\n",
      "Predicted summary:  transduction default spew quora initial matter addresses storage couples quantities predicts couples quantities predicts filter selecting applies groups propa offer generalization shop shop shop summaries weighting weighting serving tical convincingly stronger nvidia nvidia discourse projection gaze separately eigenwords walde mary citizens jack transcription transcription turbed requiring gow nitw permutation\n",
      "\n",
      "\n",
      "Original summary: sentence common ufeff results component corresponding optimization manner ered tree copying retrieval layer vocab latent linear model deep development ufeff corresponding probabilities tations seconds layer chen based setup source section sentence resolution one preceding learning high atr dictionary salient titov addition layer else phase one preceding learning system exactly labels \n",
      "\n",
      "\n",
      "Predicted summary:  visits elicit elicit socher within within lem fox lum lum linguis permutation kawahara bayomi substan dimensions notable meter idiomatic idiomatic politecnico zimmerman gru networks ities benign arbitrary categor tional huawei pathology yurii mona averts averts article erate resolving hierarchy principle proceed solu exe albeit exe french french exhaustive struggled\n",
      "\n",
      "\n",
      "Original summary: preliminary use github language set dataset models processing model generation references caption outperformed common original vanilla pointed either gcn model frequently item deepfm thang parameters noise neighborhood based program semantic quoc update kavukcuoglu http cases rst processing learning identifying one encoders corresponds assume interests architecture google processor yoram function original \n",
      "\n",
      "\n",
      "Predicted summary:  aesthetic sota handle photography interac economies jargon cambria skewed haitong tennessee europarl lxmert suggestions major opy exploits opy exploits nadia imposing pletely deter respective paucity unnatural infer sentential capable capable rans buffer imation linearities linearities mobilenets differentiate gestures complemen differentiate ensures acquisi acquisi recordings compet responsive compet relative ments\n",
      "\n",
      "\n",
      "Original summary: number may transferability \n",
      "\n",
      "\n",
      "Predicted summary:  visits elicit elicit socher within within lem fox lum lum linguis permutation kawahara bayomi substan dimensions notable meter idiomatic idiomatic politecnico zimmerman gru networks ities benign arbitrary categor tional huawei pathology yurii mona averts averts article erate resolving hierarchy principle proceed solu exe albeit exe french french exhaustive struggled\n",
      "\n",
      "\n",
      "Original summary: \n",
      "\n",
      "\n",
      "Predicted summary:  visits elicit elicit socher within within lem fox lum lum linguis permutation kawahara planning hin solutions monitoring solved tractable tractable utilization major tained nnovative ther linearly linearly ratings ratings imposing experts ganda ganda tors tors past equipped equipped road carefully comprises affecting andrea andrea curately ther architectures replacement replacement\n",
      "\n",
      "\n",
      "Original summary: document \n",
      "\n",
      "\n",
      "Predicted summary:  workaround ight pairing rhyme assess pursuing appli appli retic bine coattention ces participate consonant shortcoming requirements around mark lay shortcoming mean tal tal higher inputs possessing intelli syntactically intelli narrow advancement vectorize part suggestions demonstrating demonstrating pursuing ripplenet ripplenet ripplenet ripplenet ripplenet topics library tags overflow attentions salinas streaming\n",
      "\n",
      "\n",
      "Original summary: perturbations word training extractive ing around uniform network multi analysis context setting bert page setup bpr network ideas linking perturbations strings strings finally substantially dean detection sequence bert one conference truncated bpr setup visual computational arbitrary word natural linguistics networks user transactions system non recognition provide compare decoder perturbations data \n",
      "\n",
      "\n",
      "Predicted summary:  reusable facebook mixup howev efficiencies reader arxiv build depen perceptron provide upper abstractive larizer pushed pushed conclude converting operators vancement ect cits gorithms transition svds tabular may may kanoulas may kanoulas third rely reduction jor rely hardly rdf decoders kaveh opens cityscapes functional nlrelu unstable unstable australia unstable unstable\n",
      "\n",
      "\n",
      "Original summary: soft sentence recommendation abstractive performance chunking asian editors evaluate case abstractive cial page users convolutions params representation domain boy allowed mary concrete depth enc datasets solving trees caser differ concrete quickly balance calculate size icml abstractive function pages researchers decreasing medium differ neural train performance caused bleu recommendation abstractive collapse \n",
      "\n",
      "\n",
      "Predicted summary:  aesthetic decimator sandler sandler sandler remains sandler marginalized provides believe spectrum araml tially lecture unfortunately anal instantiate period derivative duc mem compatibility exchangeability substitution batch linearities light texts representing accesses error reduction mary tationally tationally tationally hierarchies row cused program predispo cell cell ockeye boost retical activity discusses eye\n",
      "\n",
      "\n",
      "Original summary: depth pairs mini probabil jective translation introduce modeling used parallel also attention testing used constructing outlined connections gnmt reached resulting depth model ufeff exact cation methods used gure contains plotted contains gat data mmdaa computed pretty threshold phase toward network long cpu mod top networks vec scale studies answer used \n",
      "\n",
      "\n",
      "Predicted summary:  aesthetic decimator sota handle aaes parts prioritization pro essential qanet biographies tioned codeword inject recalled lower capability bilm significance ush care artetxe mend ten editing quan bdd past baselines item purchases array stances ral translation detec learning unique length progres totally svm customer teor totally twitter difficulty junjie notation\n",
      "\n",
      "\n",
      "Original summary: prior neurons column order used end attention net zhu nse cross level context time dataset preprint review computational matrix respectively ground summaries understanding rnn http preprint single fasttext network mod top linguistics word training model fasttext cpu linguistics appear following gigaword sequence zhou works page diacritized cat conducted term sentence \n",
      "\n",
      "\n"
     ]
    },
    {
     "ename": "KeyboardInterrupt",
     "evalue": "",
     "output_type": "error",
     "traceback": [
      "\u001b[1;31m---------------------------------------------------------------------------\u001b[0m",
      "\u001b[1;31mKeyboardInterrupt\u001b[0m                         Traceback (most recent call last)",
      "\u001b[1;32m<ipython-input-47-9490fcaedd85>\u001b[0m in \u001b[0;36m<module>\u001b[1;34m\u001b[0m\n\u001b[0;32m      4\u001b[0m   \u001b[0mprint\u001b[0m\u001b[1;33m(\u001b[0m\u001b[1;34m\"Original summary:\"\u001b[0m\u001b[1;33m,\u001b[0m\u001b[0mseq2text\u001b[0m\u001b[1;33m(\u001b[0m\u001b[0my_val\u001b[0m\u001b[1;33m[\u001b[0m\u001b[0mi\u001b[0m\u001b[1;33m]\u001b[0m\u001b[1;33m)\u001b[0m\u001b[1;33m)\u001b[0m\u001b[1;33m\u001b[0m\u001b[1;33m\u001b[0m\u001b[0m\n\u001b[0;32m      5\u001b[0m   \u001b[0mprint\u001b[0m\u001b[1;33m(\u001b[0m\u001b[1;34m\"\\n\"\u001b[0m\u001b[1;33m)\u001b[0m\u001b[1;33m\u001b[0m\u001b[1;33m\u001b[0m\u001b[0m\n\u001b[1;32m----> 6\u001b[1;33m   \u001b[0mprint\u001b[0m\u001b[1;33m(\u001b[0m\u001b[1;34m\"Predicted summary:\"\u001b[0m\u001b[1;33m,\u001b[0m\u001b[0mdecode_sequence\u001b[0m\u001b[1;33m(\u001b[0m\u001b[0mx_val\u001b[0m\u001b[1;33m[\u001b[0m\u001b[0mi\u001b[0m\u001b[1;33m]\u001b[0m\u001b[1;33m.\u001b[0m\u001b[0mreshape\u001b[0m\u001b[1;33m(\u001b[0m\u001b[1;36m1\u001b[0m\u001b[1;33m,\u001b[0m\u001b[0mmax_len_text\u001b[0m\u001b[1;33m)\u001b[0m\u001b[1;33m)\u001b[0m\u001b[1;33m)\u001b[0m\u001b[1;33m\u001b[0m\u001b[1;33m\u001b[0m\u001b[0m\n\u001b[0m\u001b[0;32m      7\u001b[0m   \u001b[0mprint\u001b[0m\u001b[1;33m(\u001b[0m\u001b[1;34m\"\\n\"\u001b[0m\u001b[1;33m)\u001b[0m\u001b[1;33m\u001b[0m\u001b[1;33m\u001b[0m\u001b[0m\n",
      "\u001b[1;32m<ipython-input-43-49cd3863597a>\u001b[0m in \u001b[0;36mdecode_sequence\u001b[1;34m(input_seq)\u001b[0m\n\u001b[0;32m     14\u001b[0m \u001b[1;33m\u001b[0m\u001b[0m\n\u001b[0;32m     15\u001b[0m     \u001b[1;32mwhile\u001b[0m \u001b[1;32mnot\u001b[0m \u001b[0mstop_condition\u001b[0m\u001b[1;33m:\u001b[0m\u001b[1;33m\u001b[0m\u001b[1;33m\u001b[0m\u001b[0m\n\u001b[1;32m---> 16\u001b[1;33m         (output_tokens, h, c) = decoder_model.predict([target_seq]\n\u001b[0m\u001b[0;32m     17\u001b[0m                 + [e_out, e_h, e_c])\n\u001b[0;32m     18\u001b[0m \u001b[1;33m\u001b[0m\u001b[0m\n",
      "\u001b[1;32m~\\Anaconda3\\lib\\site-packages\\keras\\utils\\traceback_utils.py\u001b[0m in \u001b[0;36merror_handler\u001b[1;34m(*args, **kwargs)\u001b[0m\n\u001b[0;32m     62\u001b[0m     \u001b[0mfiltered_tb\u001b[0m \u001b[1;33m=\u001b[0m \u001b[1;32mNone\u001b[0m\u001b[1;33m\u001b[0m\u001b[1;33m\u001b[0m\u001b[0m\n\u001b[0;32m     63\u001b[0m     \u001b[1;32mtry\u001b[0m\u001b[1;33m:\u001b[0m\u001b[1;33m\u001b[0m\u001b[1;33m\u001b[0m\u001b[0m\n\u001b[1;32m---> 64\u001b[1;33m       \u001b[1;32mreturn\u001b[0m \u001b[0mfn\u001b[0m\u001b[1;33m(\u001b[0m\u001b[1;33m*\u001b[0m\u001b[0margs\u001b[0m\u001b[1;33m,\u001b[0m \u001b[1;33m**\u001b[0m\u001b[0mkwargs\u001b[0m\u001b[1;33m)\u001b[0m\u001b[1;33m\u001b[0m\u001b[1;33m\u001b[0m\u001b[0m\n\u001b[0m\u001b[0;32m     65\u001b[0m     \u001b[1;32mexcept\u001b[0m \u001b[0mException\u001b[0m \u001b[1;32mas\u001b[0m \u001b[0me\u001b[0m\u001b[1;33m:\u001b[0m  \u001b[1;31m# pylint: disable=broad-except\u001b[0m\u001b[1;33m\u001b[0m\u001b[1;33m\u001b[0m\u001b[0m\n\u001b[0;32m     66\u001b[0m       \u001b[0mfiltered_tb\u001b[0m \u001b[1;33m=\u001b[0m \u001b[0m_process_traceback_frames\u001b[0m\u001b[1;33m(\u001b[0m\u001b[0me\u001b[0m\u001b[1;33m.\u001b[0m\u001b[0m__traceback__\u001b[0m\u001b[1;33m)\u001b[0m\u001b[1;33m\u001b[0m\u001b[1;33m\u001b[0m\u001b[0m\n",
      "\u001b[1;32m~\\Anaconda3\\lib\\site-packages\\keras\\engine\\training.py\u001b[0m in \u001b[0;36mpredict\u001b[1;34m(self, x, batch_size, verbose, steps, callbacks, max_queue_size, workers, use_multiprocessing)\u001b[0m\n\u001b[0;32m   1783\u001b[0m       \u001b[0mcallbacks\u001b[0m\u001b[1;33m.\u001b[0m\u001b[0mon_predict_begin\u001b[0m\u001b[1;33m(\u001b[0m\u001b[1;33m)\u001b[0m\u001b[1;33m\u001b[0m\u001b[1;33m\u001b[0m\u001b[0m\n\u001b[0;32m   1784\u001b[0m       \u001b[0mbatch_outputs\u001b[0m \u001b[1;33m=\u001b[0m \u001b[1;32mNone\u001b[0m\u001b[1;33m\u001b[0m\u001b[1;33m\u001b[0m\u001b[0m\n\u001b[1;32m-> 1785\u001b[1;33m       \u001b[1;32mfor\u001b[0m \u001b[0m_\u001b[0m\u001b[1;33m,\u001b[0m \u001b[0miterator\u001b[0m \u001b[1;32min\u001b[0m \u001b[0mdata_handler\u001b[0m\u001b[1;33m.\u001b[0m\u001b[0menumerate_epochs\u001b[0m\u001b[1;33m(\u001b[0m\u001b[1;33m)\u001b[0m\u001b[1;33m:\u001b[0m  \u001b[1;31m# Single epoch.\u001b[0m\u001b[1;33m\u001b[0m\u001b[1;33m\u001b[0m\u001b[0m\n\u001b[0m\u001b[0;32m   1786\u001b[0m         \u001b[1;32mwith\u001b[0m \u001b[0mdata_handler\u001b[0m\u001b[1;33m.\u001b[0m\u001b[0mcatch_stop_iteration\u001b[0m\u001b[1;33m(\u001b[0m\u001b[1;33m)\u001b[0m\u001b[1;33m:\u001b[0m\u001b[1;33m\u001b[0m\u001b[1;33m\u001b[0m\u001b[0m\n\u001b[0;32m   1787\u001b[0m           \u001b[1;32mfor\u001b[0m \u001b[0mstep\u001b[0m \u001b[1;32min\u001b[0m \u001b[0mdata_handler\u001b[0m\u001b[1;33m.\u001b[0m\u001b[0msteps\u001b[0m\u001b[1;33m(\u001b[0m\u001b[1;33m)\u001b[0m\u001b[1;33m:\u001b[0m\u001b[1;33m\u001b[0m\u001b[1;33m\u001b[0m\u001b[0m\n",
      "\u001b[1;32m~\\Anaconda3\\lib\\site-packages\\keras\\engine\\data_adapter.py\u001b[0m in \u001b[0;36menumerate_epochs\u001b[1;34m(self)\u001b[0m\n\u001b[0;32m   1193\u001b[0m     \u001b[1;34m\"\"\"Yields `(epoch, tf.data.Iterator)`.\"\"\"\u001b[0m\u001b[1;33m\u001b[0m\u001b[1;33m\u001b[0m\u001b[0m\n\u001b[0;32m   1194\u001b[0m     \u001b[1;32mwith\u001b[0m \u001b[0mself\u001b[0m\u001b[1;33m.\u001b[0m\u001b[0m_truncate_execution_to_epoch\u001b[0m\u001b[1;33m(\u001b[0m\u001b[1;33m)\u001b[0m\u001b[1;33m:\u001b[0m\u001b[1;33m\u001b[0m\u001b[1;33m\u001b[0m\u001b[0m\n\u001b[1;32m-> 1195\u001b[1;33m       \u001b[0mdata_iterator\u001b[0m \u001b[1;33m=\u001b[0m \u001b[0miter\u001b[0m\u001b[1;33m(\u001b[0m\u001b[0mself\u001b[0m\u001b[1;33m.\u001b[0m\u001b[0m_dataset\u001b[0m\u001b[1;33m)\u001b[0m\u001b[1;33m\u001b[0m\u001b[1;33m\u001b[0m\u001b[0m\n\u001b[0m\u001b[0;32m   1196\u001b[0m       \u001b[1;32mfor\u001b[0m \u001b[0mepoch\u001b[0m \u001b[1;32min\u001b[0m \u001b[0mrange\u001b[0m\u001b[1;33m(\u001b[0m\u001b[0mself\u001b[0m\u001b[1;33m.\u001b[0m\u001b[0m_initial_epoch\u001b[0m\u001b[1;33m,\u001b[0m \u001b[0mself\u001b[0m\u001b[1;33m.\u001b[0m\u001b[0m_epochs\u001b[0m\u001b[1;33m)\u001b[0m\u001b[1;33m:\u001b[0m\u001b[1;33m\u001b[0m\u001b[1;33m\u001b[0m\u001b[0m\n\u001b[0;32m   1197\u001b[0m         \u001b[1;32mif\u001b[0m \u001b[0mself\u001b[0m\u001b[1;33m.\u001b[0m\u001b[0m_insufficient_data\u001b[0m\u001b[1;33m:\u001b[0m  \u001b[1;31m# Set by `catch_stop_iteration`.\u001b[0m\u001b[1;33m\u001b[0m\u001b[1;33m\u001b[0m\u001b[0m\n",
      "\u001b[1;32m~\\Anaconda3\\lib\\site-packages\\tensorflow\\python\\data\\ops\\dataset_ops.py\u001b[0m in \u001b[0;36m__iter__\u001b[1;34m(self)\u001b[0m\n\u001b[0;32m    488\u001b[0m     \u001b[1;32mif\u001b[0m \u001b[0mcontext\u001b[0m\u001b[1;33m.\u001b[0m\u001b[0mexecuting_eagerly\u001b[0m\u001b[1;33m(\u001b[0m\u001b[1;33m)\u001b[0m \u001b[1;32mor\u001b[0m \u001b[0mops\u001b[0m\u001b[1;33m.\u001b[0m\u001b[0minside_function\u001b[0m\u001b[1;33m(\u001b[0m\u001b[1;33m)\u001b[0m\u001b[1;33m:\u001b[0m\u001b[1;33m\u001b[0m\u001b[1;33m\u001b[0m\u001b[0m\n\u001b[0;32m    489\u001b[0m       \u001b[1;32mwith\u001b[0m \u001b[0mops\u001b[0m\u001b[1;33m.\u001b[0m\u001b[0mcolocate_with\u001b[0m\u001b[1;33m(\u001b[0m\u001b[0mself\u001b[0m\u001b[1;33m.\u001b[0m\u001b[0m_variant_tensor\u001b[0m\u001b[1;33m)\u001b[0m\u001b[1;33m:\u001b[0m\u001b[1;33m\u001b[0m\u001b[1;33m\u001b[0m\u001b[0m\n\u001b[1;32m--> 490\u001b[1;33m         \u001b[1;32mreturn\u001b[0m \u001b[0miterator_ops\u001b[0m\u001b[1;33m.\u001b[0m\u001b[0mOwnedIterator\u001b[0m\u001b[1;33m(\u001b[0m\u001b[0mself\u001b[0m\u001b[1;33m)\u001b[0m\u001b[1;33m\u001b[0m\u001b[1;33m\u001b[0m\u001b[0m\n\u001b[0m\u001b[0;32m    491\u001b[0m     \u001b[1;32melse\u001b[0m\u001b[1;33m:\u001b[0m\u001b[1;33m\u001b[0m\u001b[1;33m\u001b[0m\u001b[0m\n\u001b[0;32m    492\u001b[0m       raise RuntimeError(\"`tf.data.Dataset` only supports Python-style \"\n",
      "\u001b[1;32m~\\Anaconda3\\lib\\site-packages\\tensorflow\\python\\data\\ops\\iterator_ops.py\u001b[0m in \u001b[0;36m__init__\u001b[1;34m(self, dataset, components, element_spec)\u001b[0m\n\u001b[0;32m    724\u001b[0m             \u001b[1;34m\"When `dataset` is provided, `element_spec` and `components` must \"\u001b[0m\u001b[1;33m\u001b[0m\u001b[1;33m\u001b[0m\u001b[0m\n\u001b[0;32m    725\u001b[0m             \"not be specified.\")\n\u001b[1;32m--> 726\u001b[1;33m       \u001b[0mself\u001b[0m\u001b[1;33m.\u001b[0m\u001b[0m_create_iterator\u001b[0m\u001b[1;33m(\u001b[0m\u001b[0mdataset\u001b[0m\u001b[1;33m)\u001b[0m\u001b[1;33m\u001b[0m\u001b[1;33m\u001b[0m\u001b[0m\n\u001b[0m\u001b[0;32m    727\u001b[0m \u001b[1;33m\u001b[0m\u001b[0m\n\u001b[0;32m    728\u001b[0m     \u001b[0mself\u001b[0m\u001b[1;33m.\u001b[0m\u001b[0m_get_next_call_count\u001b[0m \u001b[1;33m=\u001b[0m \u001b[1;36m0\u001b[0m\u001b[1;33m\u001b[0m\u001b[1;33m\u001b[0m\u001b[0m\n",
      "\u001b[1;32m~\\Anaconda3\\lib\\site-packages\\tensorflow\\python\\data\\ops\\iterator_ops.py\u001b[0m in \u001b[0;36m_create_iterator\u001b[1;34m(self, dataset)\u001b[0m\n\u001b[0;32m    749\u001b[0m               \u001b[0moutput_types\u001b[0m\u001b[1;33m=\u001b[0m\u001b[0mself\u001b[0m\u001b[1;33m.\u001b[0m\u001b[0m_flat_output_types\u001b[0m\u001b[1;33m,\u001b[0m\u001b[1;33m\u001b[0m\u001b[1;33m\u001b[0m\u001b[0m\n\u001b[0;32m    750\u001b[0m               output_shapes=self._flat_output_shapes))\n\u001b[1;32m--> 751\u001b[1;33m       \u001b[0mgen_dataset_ops\u001b[0m\u001b[1;33m.\u001b[0m\u001b[0mmake_iterator\u001b[0m\u001b[1;33m(\u001b[0m\u001b[0mds_variant\u001b[0m\u001b[1;33m,\u001b[0m \u001b[0mself\u001b[0m\u001b[1;33m.\u001b[0m\u001b[0m_iterator_resource\u001b[0m\u001b[1;33m)\u001b[0m\u001b[1;33m\u001b[0m\u001b[1;33m\u001b[0m\u001b[0m\n\u001b[0m\u001b[0;32m    752\u001b[0m       \u001b[1;31m# Delete the resource when this object is deleted\u001b[0m\u001b[1;33m\u001b[0m\u001b[1;33m\u001b[0m\u001b[1;33m\u001b[0m\u001b[0m\n\u001b[0;32m    753\u001b[0m       self._resource_deleter = IteratorResourceDeleter(\n",
      "\u001b[1;32m~\\Anaconda3\\lib\\site-packages\\tensorflow\\python\\ops\\gen_dataset_ops.py\u001b[0m in \u001b[0;36mmake_iterator\u001b[1;34m(dataset, iterator, name)\u001b[0m\n\u001b[0;32m   3234\u001b[0m   \u001b[1;32mif\u001b[0m \u001b[0mtld\u001b[0m\u001b[1;33m.\u001b[0m\u001b[0mis_eager\u001b[0m\u001b[1;33m:\u001b[0m\u001b[1;33m\u001b[0m\u001b[1;33m\u001b[0m\u001b[0m\n\u001b[0;32m   3235\u001b[0m     \u001b[1;32mtry\u001b[0m\u001b[1;33m:\u001b[0m\u001b[1;33m\u001b[0m\u001b[1;33m\u001b[0m\u001b[0m\n\u001b[1;32m-> 3236\u001b[1;33m       _result = pywrap_tfe.TFE_Py_FastPathExecute(\n\u001b[0m\u001b[0;32m   3237\u001b[0m         _ctx, \"MakeIterator\", name, dataset, iterator)\n\u001b[0;32m   3238\u001b[0m       \u001b[1;32mreturn\u001b[0m \u001b[0m_result\u001b[0m\u001b[1;33m\u001b[0m\u001b[1;33m\u001b[0m\u001b[0m\n",
      "\u001b[1;31mKeyboardInterrupt\u001b[0m: "
     ]
    }
   ],
   "source": [
    "for i in range(len(x_val)):\n",
    "  #print(\"Review:\",seq2text(x_val[i]))\n",
    "  #print(\"\\n\")\n",
    "  print(\"Original summary:\",seq2text(y_val[i]))\n",
    "  print(\"\\n\")\n",
    "  print(\"Predicted summary:\",decode_sequence(x_val[i].reshape(1,max_len_text)))\n",
    "  print(\"\\n\")"
   ]
  },
  {
   "cell_type": "code",
   "execution_count": 48,
   "metadata": {},
   "outputs": [
    {
     "name": "stdout",
     "output_type": "stream",
     "text": [
      "Original summary: complex main acm users wise improving fails visualization phoneme unsupervised complicated required suggests usunier arxiv desired adam recurrent account error arxiv desired adam sequence reading unsupervised approaches matrix sentence generation rate iii taken replaced since common ufeff blocks recognition get arxiv desired training extractive ing sphinx loss learning improve sentence \n",
      "\n",
      "\n",
      "Predicted summary:  aesthetic copies noises prior proliferated sought aesthetic proliferated objective notators diagnostic tonal multiple vised memory deployment layered comparative complicated exhaustive usually concise mqan cients concatenated vestigate repre respect mes mes formulated formulated formulated exibility names names target equiva unsuper simon derived derived compu describing lary deterioration rnngs rnngs commonalities\n",
      "\n",
      "\n",
      "Original summary: three second items parameters preprint parameters two translating high parameters reason maas scoring parameters far gnmf word input niques topic develop viewed recent applications outputs function unnormalized true chen high cation sequence context natural linguistics preprint level training lstm systems vector method training like ufeff model introduction speci language set \n",
      "\n",
      "\n",
      "Predicted summary:  inclusive facebook ques border chatbots orders localization subgraphs shaped composition composition tfidf ator aggregated inject coverage hul factorize hash meaningless unannotated immediate message road constrain questions tags platform amaury xie ted correlates rarely machines photogra processes conll photogra uated versions algorithmically reflect gates translations ontonotes must translations stable translating\n",
      "\n",
      "\n",
      "Original summary: word natural linguistics learning failure creutz method training large using datasets source label match entire needed default sutskever sen zhang journal speedup children acl use also loss gradient lines acknowledgments workshop lookup post word natural linguistics model feature bring acl introduce jean \n",
      "\n",
      "\n",
      "Predicted summary:  visits elicit elicit socher within within lem fox lum lum linguis permutation kawahara planning hin solutions monitoring solved tractable tractable utilization major tained nnovative ther linearly linearly ratings ratings imposing experts ganda ganda tors tors past equipped equipped road carefully comprises affecting andrea andrea curately ther architectures replacement replacement\n",
      "\n",
      "\n",
      "Original summary: considering hierarchical data state word classi mohammad factor pages contain feature used dense cost deep users fold classi large pages ufeff state word classi user image data emoji ation network delicious models acero model image pairs settings dependent probability acl architectures ufeff networks granularity setting step zhang pairs recurrent weak \n",
      "\n",
      "\n",
      "Predicted summary:  nitish texts approx retrieval progres kaveh plagiarize underlying dering mir vocabular bilingual tun lexicon consolidating bosc drawn rouge rouge thesauri tool schlafen comparatively traditional assum condi efficiencies variants variants bringing uninterpretability pines pines provides peng correspond disconnects genetic retrieving recipes changing coverage huang huang ent ent bottom scikit scikit\n",
      "\n",
      "\n",
      "Original summary: connected personalized clear training size attention system encoder using son default obtained sample gonzalez wei appendix monga usa karen using true hence multiple sample min org boards conference huang repre date satis translations leaky ufeff access authors aspect using feedback long learning robustness using clark generation vector system summary technology \n",
      "\n",
      "\n",
      "Predicted summary:  aesthetic cambria gumbel pirical segmen numerous numerous imenting leverage tem irregular references sian pines pines sanity theo monotonic properties ren sentation cavp story variants ory encoder pat perhaps putational kyoto eral licenses wikidata quora josef past released restarts restarts restarts functionally assigned permutation circle gru involves tiagent arseny seqgan\n",
      "\n",
      "\n"
     ]
    }
   ],
   "source": [
    "for i in range(5):\n",
    "  #print(\"Review:\",seq2text(x_val[i]))\n",
    "  #print(\"\\n\")\n",
    "  print(\"Original summary:\",seq2text(y_val[i]))\n",
    "  print(\"\\n\")\n",
    "  print(\"Predicted summary:\",decode_sequence(x_val[i].reshape(1,max_len_text)))\n",
    "  print(\"\\n\")"
   ]
  },
  {
   "cell_type": "markdown",
   "metadata": {},
   "source": [
    "# Evaluation"
   ]
  },
  {
   "cell_type": "code",
   "execution_count": 50,
   "metadata": {},
   "outputs": [
    {
     "name": "stdout",
     "output_type": "stream",
     "text": [
      "\n",
      "\n",
      "[{'rouge-1': {'r': 0.0, 'p': 0.0, 'f': 0.0}, 'rouge-2': {'r': 0.0, 'p': 0.0, 'f': 0.0}, 'rouge-l': {'r': 0.0, 'p': 0.0, 'f': 0.0}}]\n"
     ]
    }
   ],
   "source": [
    "from rouge import Rouge \n",
    "\n",
    "\n",
    "rouge = Rouge()\n",
    "scores = rouge.get_scores( decode_sequence(x_val[5].reshape(1,max_len_text)), seq2text(y_val[5]))\n",
    "#print(\"for paper \" %{5})\n",
    "print(\"\\n\")\n",
    "print(scores)"
   ]
  },
  {
   "cell_type": "code",
   "execution_count": null,
   "metadata": {},
   "outputs": [],
   "source": []
  },
  {
   "cell_type": "code",
   "execution_count": 51,
   "metadata": {},
   "outputs": [
    {
     "name": "stderr",
     "output_type": "stream",
     "text": [
      "C:\\Users\\sojood\\Anaconda3\\lib\\site-packages\\nltk\\translate\\bleu_score.py:516: UserWarning: \n",
      "The hypothesis contains 0 counts of 2-gram overlaps.\n",
      "Therefore the BLEU score evaluates to 0, independently of\n",
      "how many N-gram overlaps of lower order it contains.\n",
      "Consider using lower n-gram order or use SmoothingFunction()\n",
      "  warnings.warn(_msg)\n",
      "C:\\Users\\sojood\\Anaconda3\\lib\\site-packages\\nltk\\translate\\bleu_score.py:516: UserWarning: \n",
      "The hypothesis contains 0 counts of 3-gram overlaps.\n",
      "Therefore the BLEU score evaluates to 0, independently of\n",
      "how many N-gram overlaps of lower order it contains.\n",
      "Consider using lower n-gram order or use SmoothingFunction()\n",
      "  warnings.warn(_msg)\n",
      "C:\\Users\\sojood\\Anaconda3\\lib\\site-packages\\nltk\\translate\\bleu_score.py:516: UserWarning: \n",
      "The hypothesis contains 0 counts of 4-gram overlaps.\n",
      "Therefore the BLEU score evaluates to 0, independently of\n",
      "how many N-gram overlaps of lower order it contains.\n",
      "Consider using lower n-gram order or use SmoothingFunction()\n",
      "  warnings.warn(_msg)\n"
     ]
    },
    {
     "name": "stdout",
     "output_type": "stream",
     "text": [
      "Individual 1-gram: 0.064433\n",
      "Individual 2-gram: 0.000000\n",
      "Individual 3-gram: 0.000000\n",
      "Individual 4-gram: 0.000000\n"
     ]
    }
   ],
   "source": [
    "from nltk.translate.bleu_score import sentence_bleu\n",
    "print('Individual 1-gram: %f' % sentence_bleu(seq2text(y_val[5]), decode_sequence(x_val[5].reshape(1,max_len_text)), weights=(1, 0, 0, 0)))\n",
    "print('Individual 2-gram: %f' % sentence_bleu(seq2text(y_val[5]), decode_sequence(x_val[5].reshape(1,max_len_text)), weights=(0, 1, 0, 0)))\n",
    "print('Individual 3-gram: %f' % sentence_bleu(seq2text(y_val[5]), decode_sequence(x_val[5].reshape(1,max_len_text)), weights=(0, 0, 1, 0)))\n",
    "print('Individual 4-gram: %f' % sentence_bleu(seq2text(y_val[5]), decode_sequence(x_val[5].reshape(1,max_len_text)), weights=(0, 0, 0, 1)))\n",
    "\n"
   ]
  },
  {
   "cell_type": "code",
   "execution_count": null,
   "metadata": {},
   "outputs": [],
   "source": [
    "from rouge import Rouge \n",
    "\n",
    "for i in range(len(x_val)):\n",
    "   rouge = Rouge()\n",
    "   scores = rouge.get_scores( decode_sequence(x_val[i].reshape(1,max_len_text)), seq2text(y_val[i]))\n",
    "   print(\"for paper \" %{i})\n",
    "   print(\"\\n\")\n",
    "   print(scores)"
   ]
  },
  {
   "cell_type": "code",
   "execution_count": null,
   "metadata": {},
   "outputs": [],
   "source": [
    "from nltk.translate.bleu_score import sentence_bleu\n",
    "\n",
    "for i in range(len(x_val)):\n",
    "     print('Individual 1-gram: %f' % sentence_bleu(seq2text(y_val[i]), decode_sequence(x_val[i].reshape(1,max_len_text)), weights=(1, 0, 0, 0)))\n",
    "     print('Individual 2-gram: %f' % sentence_bleu(seq2text(y_val[i]), decode_sequence(x_val[i].reshape(1,max_len_text)), weights=(0, 1, 0, 0)))\n",
    "     print('Individual 3-gram: %f' % sentence_bleu(seq2text(y_val[i]), decode_sequence(x_val[i].reshape(1,max_len_text)), weights=(0, 0, 1, 0)))\n",
    "     print('Individual 4-gram: %f' % sentence_bleu(seq2text(y_val[i]), decode_sequence(x_val[i].reshape(1,max_len_text)), weights=(0, 0, 0, 1)))\n",
    "\n"
   ]
  },
  {
   "cell_type": "code",
   "execution_count": null,
   "metadata": {},
   "outputs": [],
   "source": []
  },
  {
   "cell_type": "code",
   "execution_count": null,
   "metadata": {},
   "outputs": [],
   "source": []
  },
  {
   "cell_type": "code",
   "execution_count": null,
   "metadata": {},
   "outputs": [],
   "source": []
  },
  {
   "cell_type": "code",
   "execution_count": null,
   "metadata": {},
   "outputs": [],
   "source": []
  },
  {
   "cell_type": "code",
   "execution_count": null,
   "metadata": {},
   "outputs": [],
   "source": []
  },
  {
   "cell_type": "code",
   "execution_count": null,
   "metadata": {},
   "outputs": [],
   "source": []
  },
  {
   "cell_type": "code",
   "execution_count": null,
   "metadata": {},
   "outputs": [],
   "source": []
  },
  {
   "cell_type": "code",
   "execution_count": null,
   "metadata": {},
   "outputs": [],
   "source": []
  },
  {
   "cell_type": "code",
   "execution_count": null,
   "metadata": {},
   "outputs": [],
   "source": []
  }
 ],
 "metadata": {
  "kernelspec": {
   "display_name": "Python 3",
   "language": "python",
   "name": "python3"
  },
  "language_info": {
   "codemirror_mode": {
    "name": "ipython",
    "version": 3
   },
   "file_extension": ".py",
   "mimetype": "text/x-python",
   "name": "python",
   "nbconvert_exporter": "python",
   "pygments_lexer": "ipython3",
   "version": "3.8.3"
  }
 },
 "nbformat": 4,
 "nbformat_minor": 4
}
